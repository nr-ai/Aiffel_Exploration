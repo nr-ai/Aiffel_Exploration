version https://git-lfs.github.com/spec/v1
oid sha256:26e22bdd1a85beffdf51468eaf0ed1dbc6aa999c23ccf60755e19d82ddd00b12
size 1054440
