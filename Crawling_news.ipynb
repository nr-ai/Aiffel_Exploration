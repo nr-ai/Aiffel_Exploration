version https://git-lfs.github.com/spec/v1
oid sha256:300141f5b575f28e4165d47581026553647cc73d15238f6e678bc39213ee9fc1
size 48874
