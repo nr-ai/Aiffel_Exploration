version https://git-lfs.github.com/spec/v1
oid sha256:fe0fd06127ea160aaad136d3ee77654b18e3c363029a683eaf693468699222d3
size 45303
