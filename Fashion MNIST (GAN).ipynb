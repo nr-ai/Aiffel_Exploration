version https://git-lfs.github.com/spec/v1
oid sha256:1e4ea818e3258ea61943ccc5643400e1f45592b03cf14c325d2a1078678aeca1
size 303788
