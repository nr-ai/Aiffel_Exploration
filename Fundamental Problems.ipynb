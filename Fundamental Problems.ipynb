{
 "cells": [
  {
   "cell_type": "markdown",
   "metadata": {},
   "source": [
    "### global variables & local scope"
   ]
  },
  {
   "cell_type": "markdown",
   "metadata": {},
   "source": [
    "1. int type"
   ]
  },
  {
   "cell_type": "code",
   "execution_count": 4,
   "metadata": {},
   "outputs": [
    {
     "name": "stdout",
     "output_type": "stream",
     "text": [
      "3\n"
     ]
    }
   ],
   "source": [
    "a = 3\n",
    "def change_int():\n",
    "    a = 7\n",
    "change_int()\n",
    "print(a)"
   ]
  },
  {
   "cell_type": "code",
   "execution_count": 5,
   "metadata": {},
   "outputs": [
    {
     "name": "stdout",
     "output_type": "stream",
     "text": [
      "7\n"
     ]
    }
   ],
   "source": [
    "def change_int():\n",
    "    global a\n",
    "    a = 7\n",
    "change_int()\n",
    "print(a)"
   ]
  },
  {
   "cell_type": "markdown",
   "metadata": {},
   "source": [
    "2. list type"
   ]
  },
  {
   "cell_type": "code",
   "execution_count": 6,
   "metadata": {},
   "outputs": [
    {
     "name": "stdout",
     "output_type": "stream",
     "text": [
      "[1, 2, 3]\n"
     ]
    }
   ],
   "source": [
    "a = [1,2,3]\n",
    "def change_list():\n",
    "    a = [2,3,4]\n",
    "change_list()\n",
    "print(a)"
   ]
  },
  {
   "cell_type": "code",
   "execution_count": 7,
   "metadata": {},
   "outputs": [
    {
     "name": "stdout",
     "output_type": "stream",
     "text": [
      "[2, 3, 4]\n"
     ]
    }
   ],
   "source": [
    "a = [1,2,3]\n",
    "def change_list():\n",
    "    a[0] = 2\n",
    "    a[1] = 3\n",
    "    a[2] = 4\n",
    "change_list()\n",
    "print(a)"
   ]
  },
  {
   "cell_type": "code",
   "execution_count": 8,
   "metadata": {},
   "outputs": [
    {
     "name": "stdout",
     "output_type": "stream",
     "text": [
      "[2, 3, 4]\n"
     ]
    }
   ],
   "source": [
    "a = [1,2,3]\n",
    "def change_list():\n",
    "    global a\n",
    "    a = [2,3,4]\n",
    "change_list()\n",
    "print(a)"
   ]
  },
  {
   "cell_type": "markdown",
   "metadata": {},
   "source": [
    "3. dictionary type"
   ]
  },
  {
   "cell_type": "code",
   "execution_count": 11,
   "metadata": {},
   "outputs": [
    {
     "name": "stdout",
     "output_type": "stream",
     "text": [
      "{1: 7, 2: 1, 3: 9}\n"
     ]
    }
   ],
   "source": [
    "a = {1:1, 2:1}\n",
    "def change_dict():\n",
    "    a[1] = 7\n",
    "    a[3] = 9\n",
    "change_dict()\n",
    "print(a)"
   ]
  },
  {
   "cell_type": "markdown",
   "metadata": {},
   "source": [
    "- 함수 내에 쓰여진 변수가 지역변수인지 글로벌변수인지 판별하는 작업이 함수 실행 이전에 먼저 일어난다.\n",
    "    - case 1: 함수 내에서 변수가 define 되면 지역변수로 여겨진다.\n",
    "        - 글로벌 변수와 동일 이름의 변수가 define 되면 변경 내용이 글로벌 변수에 반영이 안됨.\n",
    "        - 글로벌 변수와 동일 이름의 변수를 정의하고, 글로벌 변수에 반영하려면 global \"변수\" 선언을 해주어야 한다.\n",
    "    - case 2: 함수 내에서 변수가 define이 따로 안되면 글로벌 변수를 가져다 씀\n",
    "        - 따라서, 변경사항이 글로벌 변수에 반영됨"
   ]
  }
 ],
 "metadata": {
  "kernelspec": {
   "display_name": "Python 3",
   "language": "python",
   "name": "python3"
  },
  "language_info": {
   "codemirror_mode": {
    "name": "ipython",
    "version": 3
   },
   "file_extension": ".py",
   "mimetype": "text/x-python",
   "name": "python",
   "nbconvert_exporter": "python",
   "pygments_lexer": "ipython3",
   "version": "3.7.6"
  }
 },
 "nbformat": 4,
 "nbformat_minor": 4
}
