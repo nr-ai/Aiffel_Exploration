version https://git-lfs.github.com/spec/v1
oid sha256:b31aa31fa1e4eed92c26ab7eb9c2aab25565930c8f62055d3c26f4bd2cb22cf7
size 157150
