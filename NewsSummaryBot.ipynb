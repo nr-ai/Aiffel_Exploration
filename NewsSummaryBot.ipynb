{
 "cells": [
  {
   "cell_type": "markdown",
   "metadata": {},
   "source": [
    "# 추상적 요약"
   ]
  },
  {
   "cell_type": "markdown",
   "metadata": {},
   "source": [
    "# 1. 데이터 준비하기"
   ]
  },
  {
   "cell_type": "code",
   "execution_count": 24,
   "metadata": {},
   "outputs": [
    {
     "name": "stdout",
     "output_type": "stream",
     "text": [
      "[nltk_data] Downloading package stopwords to\n",
      "[nltk_data]     /home/aiffel0035/nltk_data...\n",
      "[nltk_data]   Package stopwords is already up-to-date!\n"
     ]
    }
   ],
   "source": [
    "import nltk\n",
    "nltk.download('stopwords')\n",
    "\n",
    "import numpy as np\n",
    "import pandas as pd\n",
    "import os\n",
    "import re\n",
    "import matplotlib.pyplot as plt\n",
    "from nltk.corpus import stopwords\n",
    "from bs4 import BeautifulSoup \n",
    "from tensorflow.keras.preprocessing.text import Tokenizer \n",
    "from tensorflow.keras.preprocessing.sequence import pad_sequences\n",
    "import urllib.request"
   ]
  },
  {
   "cell_type": "code",
   "execution_count": 25,
   "metadata": {},
   "outputs": [],
   "source": [
    "import urllib.request\n",
    "urllib.request.urlretrieve(\"https://raw.githubusercontent.com/sunnysai12345/News_Summary/master/news_summary_more.csv\", filename=\"news_summary_more.csv\")\n",
    "data = pd.read_csv('news_summary_more.csv', encoding='iso-8859-1')"
   ]
  },
  {
   "cell_type": "code",
   "execution_count": 26,
   "metadata": {},
   "outputs": [
    {
     "name": "stdout",
     "output_type": "stream",
     "text": [
      "전체 샘플수 : 98401\n"
     ]
    }
   ],
   "source": [
    "print('전체 샘플수 :',(len(data)))"
   ]
  },
  {
   "cell_type": "code",
   "execution_count": 27,
   "metadata": {},
   "outputs": [
    {
     "data": {
      "text/html": [
       "<div>\n",
       "<style scoped>\n",
       "    .dataframe tbody tr th:only-of-type {\n",
       "        vertical-align: middle;\n",
       "    }\n",
       "\n",
       "    .dataframe tbody tr th {\n",
       "        vertical-align: top;\n",
       "    }\n",
       "\n",
       "    .dataframe thead th {\n",
       "        text-align: right;\n",
       "    }\n",
       "</style>\n",
       "<table border=\"1\" class=\"dataframe\">\n",
       "  <thead>\n",
       "    <tr style=\"text-align: right;\">\n",
       "      <th></th>\n",
       "      <th>headlines</th>\n",
       "      <th>text</th>\n",
       "    </tr>\n",
       "  </thead>\n",
       "  <tbody>\n",
       "    <tr>\n",
       "      <th>0</th>\n",
       "      <td>upGrad learner switches to career in ML &amp; Al w...</td>\n",
       "      <td>Saurav Kant, an alumnus of upGrad and IIIT-B's...</td>\n",
       "    </tr>\n",
       "    <tr>\n",
       "      <th>1</th>\n",
       "      <td>Delhi techie wins free food from Swiggy for on...</td>\n",
       "      <td>Kunal Shah's credit card bill payment platform...</td>\n",
       "    </tr>\n",
       "    <tr>\n",
       "      <th>2</th>\n",
       "      <td>New Zealand end Rohit Sharma-led India's 12-ma...</td>\n",
       "      <td>New Zealand defeated India by 8 wickets in the...</td>\n",
       "    </tr>\n",
       "    <tr>\n",
       "      <th>3</th>\n",
       "      <td>Aegon life iTerm insurance plan helps customer...</td>\n",
       "      <td>With Aegon Life iTerm Insurance plan, customer...</td>\n",
       "    </tr>\n",
       "    <tr>\n",
       "      <th>4</th>\n",
       "      <td>Have known Hirani for yrs, what if MeToo claim...</td>\n",
       "      <td>Speaking about the sexual harassment allegatio...</td>\n",
       "    </tr>\n",
       "  </tbody>\n",
       "</table>\n",
       "</div>"
      ],
      "text/plain": [
       "                                           headlines  \\\n",
       "0  upGrad learner switches to career in ML & Al w...   \n",
       "1  Delhi techie wins free food from Swiggy for on...   \n",
       "2  New Zealand end Rohit Sharma-led India's 12-ma...   \n",
       "3  Aegon life iTerm insurance plan helps customer...   \n",
       "4  Have known Hirani for yrs, what if MeToo claim...   \n",
       "\n",
       "                                                text  \n",
       "0  Saurav Kant, an alumnus of upGrad and IIIT-B's...  \n",
       "1  Kunal Shah's credit card bill payment platform...  \n",
       "2  New Zealand defeated India by 8 wickets in the...  \n",
       "3  With Aegon Life iTerm Insurance plan, customer...  \n",
       "4  Speaking about the sexual harassment allegatio...  "
      ]
     },
     "execution_count": 27,
     "metadata": {},
     "output_type": "execute_result"
    }
   ],
   "source": [
    "data.head()"
   ]
  },
  {
   "cell_type": "code",
   "execution_count": 29,
   "metadata": {},
   "outputs": [
    {
     "data": {
      "text/html": [
       "<div>\n",
       "<style scoped>\n",
       "    .dataframe tbody tr th:only-of-type {\n",
       "        vertical-align: middle;\n",
       "    }\n",
       "\n",
       "    .dataframe tbody tr th {\n",
       "        vertical-align: top;\n",
       "    }\n",
       "\n",
       "    .dataframe thead th {\n",
       "        text-align: right;\n",
       "    }\n",
       "</style>\n",
       "<table border=\"1\" class=\"dataframe\">\n",
       "  <thead>\n",
       "    <tr style=\"text-align: right;\">\n",
       "      <th></th>\n",
       "      <th>Text</th>\n",
       "      <th>Summary</th>\n",
       "    </tr>\n",
       "  </thead>\n",
       "  <tbody>\n",
       "    <tr>\n",
       "      <th>21758</th>\n",
       "      <td>Jewellery chain Tribhovandas Bhimji Zaveri's C...</td>\n",
       "      <td>TBZ jeweller's Chairman may get Ã¢ÂÂ¹7.26 cr ...</td>\n",
       "    </tr>\n",
       "    <tr>\n",
       "      <th>94600</th>\n",
       "      <td>'Aligarh' director Hansal Mehta has said that ...</td>\n",
       "      <td>Disappointed over Aligarh snub at National Awa...</td>\n",
       "    </tr>\n",
       "    <tr>\n",
       "      <th>79999</th>\n",
       "      <td>Varun Dhawan, while referring to his IIFA 2017...</td>\n",
       "      <td>I'm extremely sorry: Varun on 'nepotism rocks'...</td>\n",
       "    </tr>\n",
       "    <tr>\n",
       "      <th>4835</th>\n",
       "      <td>Sodan Singh, an accused in the 2013 Muzaffarna...</td>\n",
       "      <td>Man accused in Muzaffarnagar riots commits sui...</td>\n",
       "    </tr>\n",
       "    <tr>\n",
       "      <th>44063</th>\n",
       "      <td>The Supreme Court on Tuesday held that foreign...</td>\n",
       "      <td>Foreign law firms cannot set up offices in Ind...</td>\n",
       "    </tr>\n",
       "    <tr>\n",
       "      <th>21319</th>\n",
       "      <td>The Centre has announced a seven-day state mou...</td>\n",
       "      <td>Centre announces 7-day mourning for late PM Va...</td>\n",
       "    </tr>\n",
       "    <tr>\n",
       "      <th>44348</th>\n",
       "      <td>Prime Minister Narendra Modi on Sunday said th...</td>\n",
       "      <td>Should look to Vedas to fight climate change: ...</td>\n",
       "    </tr>\n",
       "    <tr>\n",
       "      <th>63068</th>\n",
       "      <td>Reacting to the Centre's announcement that Khi...</td>\n",
       "      <td>Twitter reacts to Khichdi becoming 'national f...</td>\n",
       "    </tr>\n",
       "    <tr>\n",
       "      <th>51532</th>\n",
       "      <td>Ex-Union Minister Jairam Ramesh has said Uttar...</td>\n",
       "      <td>UP's split inevitable due to size, population:...</td>\n",
       "    </tr>\n",
       "    <tr>\n",
       "      <th>10182</th>\n",
       "      <td>Two people were arrested on Sunday after their...</td>\n",
       "      <td>2 arrested for running over retd Intelligence ...</td>\n",
       "    </tr>\n",
       "    <tr>\n",
       "      <th>38345</th>\n",
       "      <td>Amitabh Bachchan will donate Ã¢ÂÂ¹2 crore to ...</td>\n",
       "      <td>Amitabh Bachchan to donate Ã¢ÂÂ¹2 crore to Ar...</td>\n",
       "    </tr>\n",
       "    <tr>\n",
       "      <th>73300</th>\n",
       "      <td>Hollywood actor Ryan Reynolds jokingly cropped...</td>\n",
       "      <td>Ryan Reynolds crops out wife Blake Lively in b...</td>\n",
       "    </tr>\n",
       "    <tr>\n",
       "      <th>71736</th>\n",
       "      <td>Responding to shuttler Saina Nehwal's decision...</td>\n",
       "      <td>Nice that Saina has decided to come back home:...</td>\n",
       "    </tr>\n",
       "    <tr>\n",
       "      <th>21081</th>\n",
       "      <td>AIMIM leader Syed Matin, who was thrashed by B...</td>\n",
       "      <td>AIMIM leader held after refusing to condole Va...</td>\n",
       "    </tr>\n",
       "    <tr>\n",
       "      <th>92273</th>\n",
       "      <td>Oncologists (cancer specialists) from across t...</td>\n",
       "      <td>Docs urge govt to include bidis in GST demerit...</td>\n",
       "    </tr>\n",
       "  </tbody>\n",
       "</table>\n",
       "</div>"
      ],
      "text/plain": [
       "                                                    Text  \\\n",
       "21758  Jewellery chain Tribhovandas Bhimji Zaveri's C...   \n",
       "94600  'Aligarh' director Hansal Mehta has said that ...   \n",
       "79999  Varun Dhawan, while referring to his IIFA 2017...   \n",
       "4835   Sodan Singh, an accused in the 2013 Muzaffarna...   \n",
       "44063  The Supreme Court on Tuesday held that foreign...   \n",
       "21319  The Centre has announced a seven-day state mou...   \n",
       "44348  Prime Minister Narendra Modi on Sunday said th...   \n",
       "63068  Reacting to the Centre's announcement that Khi...   \n",
       "51532  Ex-Union Minister Jairam Ramesh has said Uttar...   \n",
       "10182  Two people were arrested on Sunday after their...   \n",
       "38345  Amitabh Bachchan will donate Ã¢ÂÂ¹2 crore to ...   \n",
       "73300  Hollywood actor Ryan Reynolds jokingly cropped...   \n",
       "71736  Responding to shuttler Saina Nehwal's decision...   \n",
       "21081  AIMIM leader Syed Matin, who was thrashed by B...   \n",
       "92273  Oncologists (cancer specialists) from across t...   \n",
       "\n",
       "                                                 Summary  \n",
       "21758  TBZ jeweller's Chairman may get Ã¢ÂÂ¹7.26 cr ...  \n",
       "94600  Disappointed over Aligarh snub at National Awa...  \n",
       "79999  I'm extremely sorry: Varun on 'nepotism rocks'...  \n",
       "4835   Man accused in Muzaffarnagar riots commits sui...  \n",
       "44063  Foreign law firms cannot set up offices in Ind...  \n",
       "21319  Centre announces 7-day mourning for late PM Va...  \n",
       "44348  Should look to Vedas to fight climate change: ...  \n",
       "63068  Twitter reacts to Khichdi becoming 'national f...  \n",
       "51532  UP's split inevitable due to size, population:...  \n",
       "10182  2 arrested for running over retd Intelligence ...  \n",
       "38345  Amitabh Bachchan to donate Ã¢ÂÂ¹2 crore to Ar...  \n",
       "73300  Ryan Reynolds crops out wife Blake Lively in b...  \n",
       "71736  Nice that Saina has decided to come back home:...  \n",
       "21081  AIMIM leader held after refusing to condole Va...  \n",
       "92273  Docs urge govt to include bidis in GST demerit...  "
      ]
     },
     "execution_count": 29,
     "metadata": {},
     "output_type": "execute_result"
    }
   ],
   "source": [
    "data[['Text','Summary']] = data[['text','headlines']]\n",
    "data=data[['Text','Summary']] \n",
    "data.head()\n",
    "\n",
    "#랜덤한 3개 샘플 출력\n",
    "data.sample(15)"
   ]
  },
  {
   "cell_type": "markdown",
   "metadata": {},
   "source": [
    "# 2. 데이터 전처리하기"
   ]
  },
  {
   "cell_type": "code",
   "execution_count": 31,
   "metadata": {},
   "outputs": [
    {
     "name": "stdout",
     "output_type": "stream",
     "text": [
      "Text 열에서 중복을 배제한 유일한 샘플의 수 : 98360\n",
      "Summary 열에서 중복을 배제한 유일한 샘플의 수 : 98280\n"
     ]
    }
   ],
   "source": [
    "print('Text 열에서 중복을 배제한 유일한 샘플의 수 :', data['Text'].nunique())\n",
    "print('Summary 열에서 중복을 배제한 유일한 샘플의 수 :', data['Summary'].nunique())"
   ]
  },
  {
   "cell_type": "code",
   "execution_count": 32,
   "metadata": {},
   "outputs": [
    {
     "name": "stdout",
     "output_type": "stream",
     "text": [
      "전체 샘플수 : 98360\n"
     ]
    }
   ],
   "source": [
    "data.drop_duplicates(subset = ['Text'], inplace = True)\n",
    "print('전체 샘플수 :',(len(data)))"
   ]
  },
  {
   "cell_type": "code",
   "execution_count": 33,
   "metadata": {},
   "outputs": [
    {
     "name": "stdout",
     "output_type": "stream",
     "text": [
      "Text       0\n",
      "Summary    0\n",
      "dtype: int64\n"
     ]
    }
   ],
   "source": [
    "print(data.isnull().sum())"
   ]
  },
  {
   "cell_type": "code",
   "execution_count": 34,
   "metadata": {},
   "outputs": [
    {
     "name": "stdout",
     "output_type": "stream",
     "text": [
      "전체 샘플수 : 98360\n"
     ]
    }
   ],
   "source": [
    "data.dropna(axis = 0, inplace = True)\n",
    "print('전체 샘플수 :',(len(data)))"
   ]
  },
  {
   "cell_type": "code",
   "execution_count": 35,
   "metadata": {},
   "outputs": [
    {
     "name": "stdout",
     "output_type": "stream",
     "text": [
      "정규화 사전의 수:  120\n"
     ]
    }
   ],
   "source": [
    "contractions = {\"ain't\": \"is not\", \"aren't\": \"are not\",\"can't\": \"cannot\", \"'cause\": \"because\", \"could've\": \"could have\", \"couldn't\": \"could not\",\n",
    "                           \"didn't\": \"did not\",  \"doesn't\": \"does not\", \"don't\": \"do not\", \"hadn't\": \"had not\", \"hasn't\": \"has not\", \"haven't\": \"have not\",\n",
    "                           \"he'd\": \"he would\",\"he'll\": \"he will\", \"he's\": \"he is\", \"how'd\": \"how did\", \"how'd'y\": \"how do you\", \"how'll\": \"how will\", \"how's\": \"how is\",\n",
    "                           \"I'd\": \"I would\", \"I'd've\": \"I would have\", \"I'll\": \"I will\", \"I'll've\": \"I will have\",\"I'm\": \"I am\", \"I've\": \"I have\", \"i'd\": \"i would\",\n",
    "                           \"i'd've\": \"i would have\", \"i'll\": \"i will\",  \"i'll've\": \"i will have\",\"i'm\": \"i am\", \"i've\": \"i have\", \"isn't\": \"is not\", \"it'd\": \"it would\",\n",
    "                           \"it'd've\": \"it would have\", \"it'll\": \"it will\", \"it'll've\": \"it will have\",\"it's\": \"it is\", \"let's\": \"let us\", \"ma'am\": \"madam\",\n",
    "                           \"mayn't\": \"may not\", \"might've\": \"might have\",\"mightn't\": \"might not\",\"mightn't've\": \"might not have\", \"must've\": \"must have\",\n",
    "                           \"mustn't\": \"must not\", \"mustn't've\": \"must not have\", \"needn't\": \"need not\", \"needn't've\": \"need not have\",\"o'clock\": \"of the clock\",\n",
    "                           \"oughtn't\": \"ought not\", \"oughtn't've\": \"ought not have\", \"shan't\": \"shall not\", \"sha'n't\": \"shall not\", \"shan't've\": \"shall not have\",\n",
    "                           \"she'd\": \"she would\", \"she'd've\": \"she would have\", \"she'll\": \"she will\", \"she'll've\": \"she will have\", \"she's\": \"she is\",\n",
    "                           \"should've\": \"should have\", \"shouldn't\": \"should not\", \"shouldn't've\": \"should not have\", \"so've\": \"so have\",\"so's\": \"so as\",\n",
    "                           \"this's\": \"this is\",\"that'd\": \"that would\", \"that'd've\": \"that would have\", \"that's\": \"that is\", \"there'd\": \"there would\",\n",
    "                           \"there'd've\": \"there would have\", \"there's\": \"there is\", \"here's\": \"here is\",\"they'd\": \"they would\", \"they'd've\": \"they would have\",\n",
    "                           \"they'll\": \"they will\", \"they'll've\": \"they will have\", \"they're\": \"they are\", \"they've\": \"they have\", \"to've\": \"to have\",\n",
    "                           \"wasn't\": \"was not\", \"we'd\": \"we would\", \"we'd've\": \"we would have\", \"we'll\": \"we will\", \"we'll've\": \"we will have\", \"we're\": \"we are\",\n",
    "                           \"we've\": \"we have\", \"weren't\": \"were not\", \"what'll\": \"what will\", \"what'll've\": \"what will have\", \"what're\": \"what are\",\n",
    "                           \"what's\": \"what is\", \"what've\": \"what have\", \"when's\": \"when is\", \"when've\": \"when have\", \"where'd\": \"where did\", \"where's\": \"where is\",\n",
    "                           \"where've\": \"where have\", \"who'll\": \"who will\", \"who'll've\": \"who will have\", \"who's\": \"who is\", \"who've\": \"who have\",\n",
    "                           \"why's\": \"why is\", \"why've\": \"why have\", \"will've\": \"will have\", \"won't\": \"will not\", \"won't've\": \"will not have\",\n",
    "                           \"would've\": \"would have\", \"wouldn't\": \"would not\", \"wouldn't've\": \"would not have\", \"y'all\": \"you all\",\n",
    "                           \"y'all'd\": \"you all would\",\"y'all'd've\": \"you all would have\",\"y'all're\": \"you all are\",\"y'all've\": \"you all have\",\n",
    "                           \"you'd\": \"you would\", \"you'd've\": \"you would have\", \"you'll\": \"you will\", \"you'll've\": \"you will have\",\n",
    "                           \"you're\": \"you are\", \"you've\": \"you have\"}\n",
    "\n",
    "print(\"정규화 사전의 수: \",len(contractions))"
   ]
  },
  {
   "cell_type": "code",
   "execution_count": 36,
   "metadata": {},
   "outputs": [
    {
     "name": "stdout",
     "output_type": "stream",
     "text": [
      "불용어 개수 : 179\n",
      "['i', 'me', 'my', 'myself', 'we', 'our', 'ours', 'ourselves', 'you', \"you're\", \"you've\", \"you'll\", \"you'd\", 'your', 'yours', 'yourself', 'yourselves', 'he', 'him', 'his', 'himself', 'she', \"she's\", 'her', 'hers', 'herself', 'it', \"it's\", 'its', 'itself', 'they', 'them', 'their', 'theirs', 'themselves', 'what', 'which', 'who', 'whom', 'this', 'that', \"that'll\", 'these', 'those', 'am', 'is', 'are', 'was', 'were', 'be', 'been', 'being', 'have', 'has', 'had', 'having', 'do', 'does', 'did', 'doing', 'a', 'an', 'the', 'and', 'but', 'if', 'or', 'because', 'as', 'until', 'while', 'of', 'at', 'by', 'for', 'with', 'about', 'against', 'between', 'into', 'through', 'during', 'before', 'after', 'above', 'below', 'to', 'from', 'up', 'down', 'in', 'out', 'on', 'off', 'over', 'under', 'again', 'further', 'then', 'once', 'here', 'there', 'when', 'where', 'why', 'how', 'all', 'any', 'both', 'each', 'few', 'more', 'most', 'other', 'some', 'such', 'no', 'nor', 'not', 'only', 'own', 'same', 'so', 'than', 'too', 'very', 's', 't', 'can', 'will', 'just', 'don', \"don't\", 'should', \"should've\", 'now', 'd', 'll', 'm', 'o', 're', 've', 'y', 'ain', 'aren', \"aren't\", 'couldn', \"couldn't\", 'didn', \"didn't\", 'doesn', \"doesn't\", 'hadn', \"hadn't\", 'hasn', \"hasn't\", 'haven', \"haven't\", 'isn', \"isn't\", 'ma', 'mightn', \"mightn't\", 'mustn', \"mustn't\", 'needn', \"needn't\", 'shan', \"shan't\", 'shouldn', \"shouldn't\", 'wasn', \"wasn't\", 'weren', \"weren't\", 'won', \"won't\", 'wouldn', \"wouldn't\"]\n"
     ]
    }
   ],
   "source": [
    "print('불용어 개수 :', len(stopwords.words('english') ))\n",
    "print(stopwords.words('english'))"
   ]
  },
  {
   "cell_type": "code",
   "execution_count": 37,
   "metadata": {},
   "outputs": [],
   "source": [
    "#데이터 전처리 함수\n",
    "def preprocess_sentence(sentence, remove_stopwords=True):\n",
    "    sentence = sentence.lower() # 텍스트 소문자화\n",
    "    sentence = BeautifulSoup(sentence, \"lxml\").text # <br />, <a href = ...> 등의 html 태그 제거\n",
    "    sentence = re.sub(r'\\([^)]*\\)', '', sentence) # 괄호로 닫힌 문자열 (...) 제거 Ex) my husband (and myself!) for => my husband for\n",
    "    sentence = re.sub('\"','', sentence) # 쌍따옴표 \" 제거\n",
    "    sentence = ' '.join([contractions[t] if t in contractions else t for t in sentence.split(\" \")]) # 약어 정규화\n",
    "    sentence = re.sub(r\"'s\\b\",\"\",sentence) # 소유격 제거. Ex) roland's -> roland\n",
    "    sentence = re.sub(\"[^a-zA-Z]\", \" \", sentence) # 영어 외 문자(숫자, 특수문자 등) 공백으로 변환\n",
    "    sentence = re.sub('[m]{2,}', 'mm', sentence) # m이 3개 이상이면 2개로 변경. Ex) ummmmmmm yeah -> umm yeah\n",
    "    \n",
    "    # 불용어 제거 (Text)\n",
    "    if remove_stopwords:\n",
    "        tokens = ' '.join(word for word in sentence.split() if not word in stopwords.words('english') if len(word) > 1)\n",
    "    # 불용어 미제거 (Summary)\n",
    "    else:\n",
    "        tokens = ' '.join(word for word in sentence.split() if len(word) > 1)\n",
    "    return tokens"
   ]
  },
  {
   "cell_type": "code",
   "execution_count": 38,
   "metadata": {},
   "outputs": [
    {
     "name": "stdout",
     "output_type": "stream",
     "text": [
      "everything bought great infact ordered twice third ordered wasfor mother father\n",
      "great way to start the day\n"
     ]
    }
   ],
   "source": [
    "temp_text = 'Everything I bought was great, infact I ordered twice and the third ordered was<br />for my mother and father.'\n",
    "temp_summary = 'Great way to start (or finish) the day!!!'\n",
    "\n",
    "print(preprocess_sentence(temp_text))\n",
    "print(preprocess_sentence(temp_summary, False))  # 불용어를 제거하지 않습니다."
   ]
  },
  {
   "cell_type": "code",
   "execution_count": 39,
   "metadata": {},
   "outputs": [
    {
     "data": {
      "text/plain": [
       "['saurav kant alumnus upgrad iiit pg program machine learning artificial intelligence sr systems engineer infosys almost years work experience program upgrad degree career support helped transition data scientist tech mahindra salary hike upgrad online power learning powered lakh careers',\n",
       " 'kunal shah credit card bill payment platform cred gave users chance win free food swiggy one year pranav kaushik delhi techie bagged reward spending cred coins users get one cred coin per rupee bill paid used avail rewards brands like ixigo bookmyshow ubereats cult fit',\n",
       " 'new zealand defeated india wickets fourth odi hamilton thursday win first match five match odi series india lost international match rohit sharma captaincy consecutive victories dating back march match witnessed india getting seventh lowest total odi cricket history',\n",
       " 'aegon life iterm insurance plan customers enjoy tax benefits premiums paid save taxes plan provides life cover age years also customers options insure critical illnesses disability accidental death benefit rider life cover age years',\n",
       " 'speaking sexual harassment allegations rajkumar hirani sonam kapoor said known hirani many years true metoo movement get derailed metoo movement always believe woman case need reserve judgment added hirani accused assistant worked sanju']"
      ]
     },
     "execution_count": 39,
     "metadata": {},
     "output_type": "execute_result"
    }
   ],
   "source": [
    "clean_text = []\n",
    "\n",
    "# 전체 Text 데이터에 대한 전처리 : 10분 이상 시간이 걸릴 수 있습니다. \n",
    "for s in data['Text']:\n",
    "    clean_text.append(preprocess_sentence(s))\n",
    "\n",
    "# 전처리 후 출력\n",
    "clean_text[:5]"
   ]
  },
  {
   "cell_type": "code",
   "execution_count": 40,
   "metadata": {},
   "outputs": [
    {
     "data": {
      "text/plain": [
       "['upgrad learner switches to career in ml al with salary hike',\n",
       " 'delhi techie wins free food from swiggy for one year on cred',\n",
       " 'new zealand end rohit sharma led india match winning streak',\n",
       " 'aegon life iterm insurance plan helps customers save tax',\n",
       " 'have known hirani for yrs what if metoo claims are not true sonam']"
      ]
     },
     "execution_count": 40,
     "metadata": {},
     "output_type": "execute_result"
    }
   ],
   "source": [
    "clean_summary = []\n",
    "\n",
    "# 전체 Summary 데이터에 대한 전처리 : 5분 이상 시간이 걸릴 수 있습니다. \n",
    "for s in data['Summary']:\n",
    "    clean_summary.append(preprocess_sentence(s, False))\n",
    "\n",
    "clean_summary[:5]"
   ]
  },
  {
   "cell_type": "code",
   "execution_count": 41,
   "metadata": {},
   "outputs": [],
   "source": [
    "data['Text'] = clean_text\n",
    "data['Summary'] = clean_summary\n",
    "\n",
    "# 빈 값을 Null 값으로 변환\n",
    "data.replace('', np.nan, inplace=True)"
   ]
  },
  {
   "cell_type": "code",
   "execution_count": 42,
   "metadata": {},
   "outputs": [
    {
     "data": {
      "text/plain": [
       "Text       0\n",
       "Summary    0\n",
       "dtype: int64"
      ]
     },
     "execution_count": 42,
     "metadata": {},
     "output_type": "execute_result"
    }
   ],
   "source": [
    "data.isnull().sum()"
   ]
  },
  {
   "cell_type": "code",
   "execution_count": 43,
   "metadata": {},
   "outputs": [
    {
     "name": "stdout",
     "output_type": "stream",
     "text": [
      "전체 샘플수 : 98360\n"
     ]
    }
   ],
   "source": [
    "data.dropna(axis=0, inplace=True)\n",
    "print('전체 샘플수 :',(len(data)))#데이터 전처리 함수"
   ]
  },
  {
   "cell_type": "code",
   "execution_count": 44,
   "metadata": {},
   "outputs": [
    {
     "name": "stdout",
     "output_type": "stream",
     "text": [
      "텍스트의 최소 길이 : 1\n",
      "텍스트의 최대 길이 : 60\n",
      "텍스트의 평균 길이 : 35.09968483123221\n",
      "요약의 최소 길이 : 1\n",
      "요약의 최대 길이 : 16\n",
      "요약의 평균 길이 : 9.299532330215534\n"
     ]
    },
    {
     "data": {
      "image/png": "[encoded data removed]",
      "text/plain": [
       "<Figure size 432x288 with 2 Axes>"
      ]
     },
     "metadata": {
      "needs_background": "light"
     },
     "output_type": "display_data"
    },
    {
     "data": {
      "image/png": "[encoded data removed]",
      "text/plain": [
       "<Figure size 432x288 with 1 Axes>"
      ]
     },
     "metadata": {
      "needs_background": "light"
     },
     "output_type": "display_data"
    },
    {
     "data": {
      "image/png": "[encoded data removed]",
      "text/plain": [
       "<Figure size 432x288 with 1 Axes>"
      ]
     },
     "metadata": {
      "needs_background": "light"
     },
     "output_type": "display_data"
    }
   ],
   "source": [
    "# 길이 분포 출력\n",
    "import matplotlib.pyplot as plt\n",
    "\n",
    "text_len = [len(s.split()) for s in data['Text']]\n",
    "summary_len = [len(s.split()) for s in data['Summary']]\n",
    "\n",
    "print('텍스트의 최소 길이 : {}'.format(np.min(text_len)))\n",
    "print('텍스트의 최대 길이 : {}'.format(np.max(text_len)))\n",
    "print('텍스트의 평균 길이 : {}'.format(np.mean(text_len)))\n",
    "print('요약의 최소 길이 : {}'.format(np.min(summary_len)))\n",
    "print('요약의 최대 길이 : {}'.format(np.max(summary_len)))\n",
    "print('요약의 평균 길이 : {}'.format(np.mean(summary_len)))\n",
    "\n",
    "plt.subplot(1,2,1)\n",
    "plt.boxplot(summary_len)\n",
    "plt.title('Summary')\n",
    "plt.subplot(1,2,2)\n",
    "plt.boxplot(text_len)\n",
    "plt.title('Text')\n",
    "plt.tight_layout()\n",
    "plt.show()\n",
    "\n",
    "plt.title('Summary')\n",
    "plt.hist(summary_len, bins = 40)\n",
    "plt.xlabel('length of samples')\n",
    "plt.ylabel('number of samples')\n",
    "plt.show()\n",
    "\n",
    "plt.title('Text')\n",
    "plt.hist(text_len, bins = 40)\n",
    "plt.xlabel('length of samples')\n",
    "plt.ylabel('number of samples')\n",
    "plt.show()"
   ]
  },
  {
   "cell_type": "code",
   "execution_count": 69,
   "metadata": {},
   "outputs": [],
   "source": [
    "text_max_len = 40\n",
    "summary_max_len = 11"
   ]
  },
  {
   "cell_type": "code",
   "execution_count": 70,
   "metadata": {},
   "outputs": [],
   "source": [
    "def below_threshold_len(max_len, nested_list):\n",
    "  cnt = 0\n",
    "  for s in nested_list:\n",
    "    if(len(s.split()) <= max_len):\n",
    "        cnt = cnt + 1\n",
    "  print('전체 샘플 중 길이가 %s 이하인 샘플의 비율: %s'%(max_len, (cnt / len(nested_list))))"
   ]
  },
  {
   "cell_type": "code",
   "execution_count": 71,
   "metadata": {},
   "outputs": [
    {
     "name": "stdout",
     "output_type": "stream",
     "text": [
      "전체 샘플 중 길이가 40 이하인 샘플의 비율: 0.9238714924766165\n",
      "전체 샘플 중 길이가 11 이하인 샘플의 비율: 0.9449877999186661\n"
     ]
    }
   ],
   "source": [
    "below_threshold_len(text_max_len, data['Text'])\n",
    "below_threshold_len(summary_max_len,  data['Summary'])"
   ]
  },
  {
   "cell_type": "code",
   "execution_count": 72,
   "metadata": {},
   "outputs": [
    {
     "name": "stdout",
     "output_type": "stream",
     "text": [
      "전체 샘플수 : 85843\n"
     ]
    }
   ],
   "source": [
    "data = data[data['Text'].apply(lambda x: len(x.split()) <= text_max_len)]\n",
    "data = data[data['Summary'].apply(lambda x: len(x.split()) <= summary_max_len)]\n",
    "print('전체 샘플수 :',(len(data)))"
   ]
  },
  {
   "cell_type": "code",
   "execution_count": 73,
   "metadata": {},
   "outputs": [
    {
     "data": {
      "text/html": [
       "<div>\n",
       "<style scoped>\n",
       "    .dataframe tbody tr th:only-of-type {\n",
       "        vertical-align: middle;\n",
       "    }\n",
       "\n",
       "    .dataframe tbody tr th {\n",
       "        vertical-align: top;\n",
       "    }\n",
       "\n",
       "    .dataframe thead th {\n",
       "        text-align: right;\n",
       "    }\n",
       "</style>\n",
       "<table border=\"1\" class=\"dataframe\">\n",
       "  <thead>\n",
       "    <tr style=\"text-align: right;\">\n",
       "      <th></th>\n",
       "      <th>Text</th>\n",
       "      <th>Summary</th>\n",
       "      <th>decoder_input</th>\n",
       "      <th>decoder_target</th>\n",
       "    </tr>\n",
       "  </thead>\n",
       "  <tbody>\n",
       "    <tr>\n",
       "      <th>0</th>\n",
       "      <td>saurav kant alumnus upgrad iiit pg program mac...</td>\n",
       "      <td>upgrad learner switches to career in ml al wit...</td>\n",
       "      <td>sostoken upgrad learner switches to career in ...</td>\n",
       "      <td>upgrad learner switches to career in ml al wit...</td>\n",
       "    </tr>\n",
       "    <tr>\n",
       "      <th>2</th>\n",
       "      <td>new zealand defeated india wickets fourth odi ...</td>\n",
       "      <td>new zealand end rohit sharma led india match w...</td>\n",
       "      <td>sostoken new zealand end rohit sharma led indi...</td>\n",
       "      <td>new zealand end rohit sharma led india match w...</td>\n",
       "    </tr>\n",
       "    <tr>\n",
       "      <th>3</th>\n",
       "      <td>aegon life iterm insurance plan customers enjo...</td>\n",
       "      <td>aegon life iterm insurance plan helps customer...</td>\n",
       "      <td>sostoken aegon life iterm insurance plan helps...</td>\n",
       "      <td>aegon life iterm insurance plan helps customer...</td>\n",
       "    </tr>\n",
       "    <tr>\n",
       "      <th>5</th>\n",
       "      <td>pakistani singer rahat fateh ali khan denied r...</td>\n",
       "      <td>rahat fateh ali khan denies getting notice for...</td>\n",
       "      <td>sostoken rahat fateh ali khan denies getting n...</td>\n",
       "      <td>rahat fateh ali khan denies getting notice for...</td>\n",
       "    </tr>\n",
       "    <tr>\n",
       "      <th>7</th>\n",
       "      <td>weeks ex cbi director alok verma told departme...</td>\n",
       "      <td>govt directs alok verma to join work day befor...</td>\n",
       "      <td>sostoken govt directs alok verma to join work ...</td>\n",
       "      <td>govt directs alok verma to join work day befor...</td>\n",
       "    </tr>\n",
       "  </tbody>\n",
       "</table>\n",
       "</div>"
      ],
      "text/plain": [
       "                                                Text  \\\n",
       "0  saurav kant alumnus upgrad iiit pg program mac...   \n",
       "2  new zealand defeated india wickets fourth odi ...   \n",
       "3  aegon life iterm insurance plan customers enjo...   \n",
       "5  pakistani singer rahat fateh ali khan denied r...   \n",
       "7  weeks ex cbi director alok verma told departme...   \n",
       "\n",
       "                                             Summary  \\\n",
       "0  upgrad learner switches to career in ml al wit...   \n",
       "2  new zealand end rohit sharma led india match w...   \n",
       "3  aegon life iterm insurance plan helps customer...   \n",
       "5  rahat fateh ali khan denies getting notice for...   \n",
       "7  govt directs alok verma to join work day befor...   \n",
       "\n",
       "                                       decoder_input  \\\n",
       "0  sostoken upgrad learner switches to career in ...   \n",
       "2  sostoken new zealand end rohit sharma led indi...   \n",
       "3  sostoken aegon life iterm insurance plan helps...   \n",
       "5  sostoken rahat fateh ali khan denies getting n...   \n",
       "7  sostoken govt directs alok verma to join work ...   \n",
       "\n",
       "                                      decoder_target  \n",
       "0  upgrad learner switches to career in ml al wit...  \n",
       "2  new zealand end rohit sharma led india match w...  \n",
       "3  aegon life iterm insurance plan helps customer...  \n",
       "5  rahat fateh ali khan denies getting notice for...  \n",
       "7  govt directs alok verma to join work day befor...  "
      ]
     },
     "execution_count": 73,
     "metadata": {},
     "output_type": "execute_result"
    }
   ],
   "source": [
    "#요약 데이터에는 시작 토큰과 종료 토큰을 추가한다.\n",
    "data['decoder_input'] = data['Summary'].apply(lambda x : 'sostoken '+ x)\n",
    "data['decoder_target'] = data['Summary'].apply(lambda x : x + ' eostoken')\n",
    "data.head()"
   ]
  },
  {
   "cell_type": "code",
   "execution_count": 74,
   "metadata": {},
   "outputs": [],
   "source": [
    "encoder_input = np.array(data['Text']) # 인코더의 입력\n",
    "decoder_input = np.array(data['decoder_input']) # 디코더의 입력\n",
    "decoder_target = np.array(data['decoder_target']) # 디코더의 레이블"
   ]
  },
  {
   "cell_type": "code",
   "execution_count": 75,
   "metadata": {},
   "outputs": [
    {
     "name": "stdout",
     "output_type": "stream",
     "text": [
      "[34667 68921 12757 ... 39254 52680  2671]\n"
     ]
    }
   ],
   "source": [
    "indices = np.arange(encoder_input.shape[0])\n",
    "np.random.shuffle(indices)\n",
    "print(indices)"
   ]
  },
  {
   "cell_type": "code",
   "execution_count": 76,
   "metadata": {},
   "outputs": [],
   "source": [
    "encoder_input = encoder_input[indices]\n",
    "decoder_input = decoder_input[indices]\n",
    "decoder_target = decoder_target[indices]"
   ]
  },
  {
   "cell_type": "code",
   "execution_count": 77,
   "metadata": {},
   "outputs": [
    {
     "name": "stdout",
     "output_type": "stream",
     "text": [
      "테스트 데이터의 수 : 17168\n"
     ]
    }
   ],
   "source": [
    "n_of_val = int(len(encoder_input)*0.2)\n",
    "print('테스트 데이터의 수 :',n_of_val)"
   ]
  },
  {
   "cell_type": "code",
   "execution_count": 107,
   "metadata": {},
   "outputs": [
    {
     "name": "stdout",
     "output_type": "stream",
     "text": [
      "훈련 데이터의 개수 : 68675\n",
      "훈련 레이블의 개수 : 68675\n",
      "테스트 데이터의 개수 : 17168\n",
      "테스트 레이블의 개수 : 17168\n"
     ]
    }
   ],
   "source": [
    "encoder_input_train = encoder_input[:-n_of_val]\n",
    "decoder_input_train = decoder_input[:-n_of_val]\n",
    "decoder_target_train = decoder_target[:-n_of_val]\n",
    "\n",
    "encoder_input_test = encoder_input[-n_of_val:]\n",
    "decoder_input_test = decoder_input[-n_of_val:]\n",
    "decoder_target_test = decoder_target[-n_of_val:]\n",
    "\n",
    "print('훈련 데이터의 개수 :', len(encoder_input_train))\n",
    "print('훈련 레이블의 개수 :',len(decoder_input_train))\n",
    "print('테스트 데이터의 개수 :',len(encoder_input_test))\n",
    "print('테스트 레이블의 개수 :',len(decoder_input_test))"
   ]
  },
  {
   "cell_type": "markdown",
   "metadata": {},
   "source": [
    "## 정수 인코딩"
   ]
  },
  {
   "cell_type": "code",
   "execution_count": 108,
   "metadata": {},
   "outputs": [],
   "source": [
    "src_tokenizer = Tokenizer() # 토크나이저 정의\n",
    "src_tokenizer.fit_on_texts(encoder_input_train) # 입력된 데이터로부터 단어 집합 생성"
   ]
  },
  {
   "cell_type": "code",
   "execution_count": 109,
   "metadata": {},
   "outputs": [
    {
     "name": "stdout",
     "output_type": "stream",
     "text": [
      "단어 집합(vocabulary)의 크기 : 64660\n",
      "등장 빈도가 29번 이하인 희귀 단어의 수: 55660\n",
      "단어 집합에서 희귀 단어를 제외시킬 경우의 단어 집합의 크기 9000\n",
      "단어 집합에서 희귀 단어의 비율: 86.08103928240025\n",
      "전체 등장 빈도에서 희귀 단어 등장 빈도 비율: 10.681342090349741\n"
     ]
    }
   ],
   "source": [
    "threshold = 30\n",
    "total_cnt = len(src_tokenizer.word_index) # 단어의 수\n",
    "rare_cnt = 0 # 등장 빈도수가 threshold보다 작은 단어의 개수를 카운트\n",
    "total_freq = 0 # 훈련 데이터의 전체 단어 빈도수 총 합\n",
    "rare_freq = 0 # 등장 빈도수가 threshold보다 작은 단어의 등장 빈도수의 총 합\n",
    "\n",
    "# 단어와 빈도수의 쌍(pair)을 key와 value로 받는다.\n",
    "for key, value in src_tokenizer.word_counts.items():\n",
    "    total_freq = total_freq + value\n",
    "\n",
    "    # 단어의 등장 빈도수가 threshold보다 작으면\n",
    "    if(value < threshold):\n",
    "        rare_cnt = rare_cnt + 1\n",
    "        rare_freq = rare_freq + value\n",
    "\n",
    "print('단어 집합(vocabulary)의 크기 :',total_cnt)\n",
    "print('등장 빈도가 %s번 이하인 희귀 단어의 수: %s'%(threshold - 1, rare_cnt))\n",
    "print('단어 집합에서 희귀 단어를 제외시킬 경우의 단어 집합의 크기 %s'%(total_cnt - rare_cnt))\n",
    "print(\"단어 집합에서 희귀 단어의 비율:\", (rare_cnt / total_cnt)*100)\n",
    "print(\"전체 등장 빈도에서 희귀 단어 등장 빈도 비율:\", (rare_freq / total_freq)*100)"
   ]
  },
  {
   "cell_type": "code",
   "execution_count": 110,
   "metadata": {},
   "outputs": [],
   "source": [
    "src_vocab = 9000\n",
    "src_tokenizer = Tokenizer(num_words = src_vocab) # 단어 집합의 크기를 8,000으로 제한\n",
    "src_tokenizer.fit_on_texts(encoder_input_train) # 단어 집합 재생성."
   ]
  },
  {
   "cell_type": "code",
   "execution_count": 111,
   "metadata": {},
   "outputs": [
    {
     "name": "stdout",
     "output_type": "stream",
     "text": [
      "[[543, 1086, 114, 295, 372, 567, 23, 115, 315, 4272, 567, 5734, 543, 1086, 3847, 1591, 2182, 2674, 426, 1, 426, 1059, 454, 741, 742, 1176, 567, 5086, 1035, 3847, 1591, 33, 1, 2947, 24, 1711, 428, 1247, 567], [2616, 13, 819, 136, 1772, 3931, 1207, 1654, 8350, 69, 1417, 209, 2802, 1284, 535, 2112, 6648, 1, 5521, 483, 3237, 1284, 1324, 306, 400, 380, 676, 326, 1032, 13, 2112, 819], [1074, 4472, 55, 174, 15, 130, 64, 1, 36, 1470, 1196, 6387, 890, 869, 1, 205, 36, 1956, 3961, 2465, 1826, 387, 36, 194, 5735, 3, 4, 6952, 33]]\n"
     ]
    }
   ],
   "source": [
    "# 텍스트 시퀀스를 정수 시퀀스로 변환\n",
    "encoder_input_train = src_tokenizer.texts_to_sequences(encoder_input_train) \n",
    "encoder_input_test = src_tokenizer.texts_to_sequences(encoder_input_test)\n",
    "\n",
    "#잘 진행되었는지 샘플 출력\n",
    "print(encoder_input_train[:3])"
   ]
  },
  {
   "cell_type": "code",
   "execution_count": 112,
   "metadata": {},
   "outputs": [],
   "source": [
    "tar_tokenizer = Tokenizer()\n",
    "tar_tokenizer.fit_on_texts(decoder_input_train)"
   ]
  },
  {
   "cell_type": "code",
   "execution_count": 120,
   "metadata": {},
   "outputs": [
    {
     "name": "stdout",
     "output_type": "stream",
     "text": [
      "단어 집합(vocabulary)의 크기 : 28515\n",
      "등장 빈도가 14번 이하인 희귀 단어의 수: 23143\n",
      "단어 집합에서 희귀 단어를 제외시킬 경우의 단어 집합의 크기 5372\n",
      "단어 집합에서 희귀 단어의 비율: 81.1607925653165\n",
      "전체 등장 빈도에서 희귀 단어 등장 빈도 비율: 10.851368609989299\n"
     ]
    }
   ],
   "source": [
    "threshold = 15\n",
    "total_cnt = len(tar_tokenizer.word_index) # 단어의 수\n",
    "rare_cnt = 0 # 등장 빈도수가 threshold보다 작은 단어의 개수를 카운트\n",
    "total_freq = 0 # 훈련 데이터의 전체 단어 빈도수 총 합\n",
    "rare_freq = 0 # 등장 빈도수가 threshold보다 작은 단어의 등장 빈도수의 총 합\n",
    "\n",
    "# 단어와 빈도수의 쌍(pair)을 key와 value로 받는다.\n",
    "for key, value in tar_tokenizer.word_counts.items():\n",
    "    total_freq = total_freq + value\n",
    "\n",
    "    # 단어의 등장 빈도수가 threshold보다 작으면\n",
    "    if(value < threshold):\n",
    "        rare_cnt = rare_cnt + 1\n",
    "        rare_freq = rare_freq + value\n",
    "\n",
    "print('단어 집합(vocabulary)의 크기 :',total_cnt)\n",
    "print('등장 빈도가 %s번 이하인 희귀 단어의 수: %s'%(threshold - 1, rare_cnt))\n",
    "print('단어 집합에서 희귀 단어를 제외시킬 경우의 단어 집합의 크기 %s'%(total_cnt - rare_cnt))\n",
    "print(\"단어 집합에서 희귀 단어의 비율:\", (rare_cnt / total_cnt)*100)\n",
    "print(\"전체 등장 빈도에서 희귀 단어 등장 빈도 비율:\", (rare_freq / total_freq)*100)"
   ]
  },
  {
   "cell_type": "code",
   "execution_count": 121,
   "metadata": {},
   "outputs": [
    {
     "name": "stdout",
     "output_type": "stream",
     "text": [
      "input\n",
      "input  [[1, 238, 247, 296, 90, 4115, 4, 57, 3070, 967], [1, 30, 1184, 3624, 3625, 831, 3, 1260], [1, 106, 19, 5, 1013, 2509, 82, 23, 43], [1, 247, 409, 3, 107, 3626, 517, 15, 206, 803], [1, 79, 843, 167, 1014]]\n",
      "target\n",
      "decoder  [[238, 247, 296, 90, 4115, 4, 57, 3070, 967, 2], [30, 1184, 3624, 3625, 831, 3, 1260, 2], [106, 19, 5, 1013, 2509, 82, 23, 43, 2], [247, 409, 3, 107, 3626, 517, 15, 206, 803, 2], [79, 843, 167, 1014, 2]]\n"
     ]
    }
   ],
   "source": [
    "tar_vocab = 5000\n",
    "tar_tokenizer = Tokenizer(num_words = tar_vocab) \n",
    "tar_tokenizer.fit_on_texts(decoder_input_train)\n",
    "tar_tokenizer.fit_on_texts(decoder_target_train)\n",
    "\n",
    "# 텍스트 시퀀스를 정수 시퀀스로 변환\n",
    "decoder_input_train = tar_tokenizer.texts_to_sequences(decoder_input_train) \n",
    "decoder_target_train = tar_tokenizer.texts_to_sequences(decoder_target_train)\n",
    "decoder_input_test = tar_tokenizer.texts_to_sequences(decoder_input_test)\n",
    "decoder_target_test = tar_tokenizer.texts_to_sequences(decoder_target_test)\n",
    "\n",
    "#잘 변환되었는지 확인\n",
    "print('input')\n",
    "print('input ',decoder_input_train[:5])\n",
    "print('target')\n",
    "print('decoder ',decoder_target_train[:5])"
   ]
  },
  {
   "cell_type": "code",
   "execution_count": 122,
   "metadata": {},
   "outputs": [
    {
     "name": "stdout",
     "output_type": "stream",
     "text": [
      "삭제할 훈련 데이터의 개수 : 2\n",
      "삭제할 테스트 데이터의 개수 : 0\n",
      "훈련 데이터의 개수 : 68673\n",
      "훈련 레이블의 개수 : 68673\n",
      "테스트 데이터의 개수 : 17168\n",
      "테스트 레이블의 개수 : 17168\n"
     ]
    },
    {
     "name": "stderr",
     "output_type": "stream",
     "text": [
      "/home/aiffel0035/anaconda3/envs/aiffel/lib/python3.7/site-packages/numpy/core/_asarray.py:83: VisibleDeprecationWarning: Creating an ndarray from ragged nested sequences (which is a list-or-tuple of lists-or-tuples-or ndarrays with different lengths or shapes) is deprecated. If you meant to do this, you must specify 'dtype=object' when creating the ndarray\n",
      "  return array(a, dtype, copy=False, order=order)\n"
     ]
    }
   ],
   "source": [
    "drop_train = [index for index, sentence in enumerate(decoder_input_train) if len(sentence) == 1]\n",
    "drop_test = [index for index, sentence in enumerate(decoder_input_test) if len(sentence) == 1]\n",
    "\n",
    "print('삭제할 훈련 데이터의 개수 :',len(drop_train))\n",
    "print('삭제할 테스트 데이터의 개수 :',len(drop_test))\n",
    "\n",
    "encoder_input_train = np.delete(encoder_input_train, drop_train, axis=0)\n",
    "decoder_input_train = np.delete(decoder_input_train, drop_train, axis=0)\n",
    "decoder_target_train = np.delete(decoder_target_train, drop_train, axis=0)\n",
    "\n",
    "encoder_input_test = np.delete(encoder_input_test, drop_test, axis=0)\n",
    "decoder_input_test = np.delete(decoder_input_test, drop_test, axis=0)\n",
    "decoder_target_test = np.delete(decoder_target_test, drop_test, axis=0)\n",
    "\n",
    "print('훈련 데이터의 개수 :', len(encoder_input_train))\n",
    "print('훈련 레이블의 개수 :',len(decoder_input_train))\n",
    "print('테스트 데이터의 개수 :',len(encoder_input_test))\n",
    "print('테스트 레이블의 개수 :',len(decoder_input_test))"
   ]
  },
  {
   "cell_type": "code",
   "execution_count": 123,
   "metadata": {},
   "outputs": [],
   "source": [
    "encoder_input_train = pad_sequences(encoder_input_train, maxlen = text_max_len, padding='post')\n",
    "encoder_input_test = pad_sequences(encoder_input_test, maxlen = text_max_len, padding='post')\n",
    "decoder_input_train = pad_sequences(decoder_input_train, maxlen = summary_max_len, padding='post')\n",
    "decoder_target_train = pad_sequences(decoder_target_train, maxlen = summary_max_len, padding='post')\n",
    "decoder_input_test = pad_sequences(decoder_input_test, maxlen = summary_max_len, padding='post')\n",
    "decoder_target_test = pad_sequences(decoder_target_test, maxlen = summary_max_len, padding='post')"
   ]
  },
  {
   "cell_type": "markdown",
   "metadata": {},
   "source": [
    "# 3. 모델 설계하기"
   ]
  },
  {
   "cell_type": "code",
   "execution_count": 124,
   "metadata": {},
   "outputs": [
    {
     "name": "stdout",
     "output_type": "stream",
     "text": [
      "WARNING:tensorflow:Layer lstm will not use cuDNN kernel since it doesn't meet the cuDNN kernel criteria. It will use generic GPU kernel as fallback when running on GPU\n",
      "WARNING:tensorflow:Layer lstm_1 will not use cuDNN kernel since it doesn't meet the cuDNN kernel criteria. It will use generic GPU kernel as fallback when running on GPU\n",
      "WARNING:tensorflow:Layer lstm_2 will not use cuDNN kernel since it doesn't meet the cuDNN kernel criteria. It will use generic GPU kernel as fallback when running on GPU\n"
     ]
    }
   ],
   "source": [
    "from tensorflow.keras.layers import Input, LSTM, Embedding, Dense, Concatenate\n",
    "from tensorflow.keras.models import Model\n",
    "from tensorflow.keras.callbacks import EarlyStopping, ModelCheckpoint\n",
    "\n",
    "\n",
    "# 인코더 설계 시작\n",
    "embedding_dim = 128\n",
    "hidden_size = 256\n",
    "\n",
    "# 인코더\n",
    "encoder_inputs = Input(shape=(text_max_len,))\n",
    "\n",
    "# 인코더의 임베딩 층\n",
    "enc_emb = Embedding(src_vocab, embedding_dim)(encoder_inputs)\n",
    "\n",
    "# 인코더의 LSTM 1\n",
    "encoder_lstm1 = LSTM(hidden_size, return_sequences=True, return_state=True ,dropout = 0.4, recurrent_dropout = 0.4)\n",
    "encoder_output1, state_h1, state_c1 = encoder_lstm1(enc_emb)\n",
    "\n",
    "# 인코더의 LSTM 2\n",
    "encoder_lstm2 = LSTM(hidden_size, return_sequences=True, return_state=True, dropout=0.4, recurrent_dropout=0.4)\n",
    "encoder_output2, state_h2, state_c2 = encoder_lstm2(encoder_output1)\n",
    "\n",
    "# 인코더의 LSTM 3\n",
    "encoder_lstm3 = LSTM(hidden_size, return_state=True, return_sequences=True, dropout=0.4, recurrent_dropout=0.4)\n",
    "encoder_outputs, state_h, state_c= encoder_lstm3(encoder_output2)"
   ]
  },
  {
   "cell_type": "code",
   "execution_count": 125,
   "metadata": {},
   "outputs": [
    {
     "name": "stdout",
     "output_type": "stream",
     "text": [
      "WARNING:tensorflow:Layer lstm_3 will not use cuDNN kernel since it doesn't meet the cuDNN kernel criteria. It will use generic GPU kernel as fallback when running on GPU\n"
     ]
    }
   ],
   "source": [
    "# 디코더 설계\n",
    "\n",
    "decoder_inputs = Input(shape=(None,))\n",
    "\n",
    "# 디코더의 임베딩 층\n",
    "dec_emb_layer = Embedding(tar_vocab, embedding_dim)\n",
    "dec_emb = dec_emb_layer(decoder_inputs)\n",
    "\n",
    "# 디코더의 LSTM\n",
    "decoder_lstm = LSTM(hidden_size, return_sequences = True, return_state = True, dropout = 0.4, recurrent_dropout=0.2)\n",
    "decoder_outputs, _, _ = decoder_lstm(dec_emb, initial_state = [state_h, state_c])"
   ]
  },
  {
   "cell_type": "code",
   "execution_count": 126,
   "metadata": {},
   "outputs": [
    {
     "name": "stdout",
     "output_type": "stream",
     "text": [
      "Model: \"model\"\n",
      "__________________________________________________________________________________________________\n",
      "Layer (type)                    Output Shape         Param #     Connected to                     \n",
      "==================================================================================================\n",
      "input_1 (InputLayer)            [(None, 40)]         0                                            \n",
      "__________________________________________________________________________________________________\n",
      "embedding (Embedding)           (None, 40, 128)      1152000     input_1[0][0]                    \n",
      "__________________________________________________________________________________________________\n",
      "lstm (LSTM)                     [(None, 40, 256), (N 394240      embedding[0][0]                  \n",
      "__________________________________________________________________________________________________\n",
      "input_2 (InputLayer)            [(None, None)]       0                                            \n",
      "__________________________________________________________________________________________________\n",
      "lstm_1 (LSTM)                   [(None, 40, 256), (N 525312      lstm[0][0]                       \n",
      "__________________________________________________________________________________________________\n",
      "embedding_1 (Embedding)         (None, None, 128)    640000      input_2[0][0]                    \n",
      "__________________________________________________________________________________________________\n",
      "lstm_2 (LSTM)                   [(None, 40, 256), (N 525312      lstm_1[0][0]                     \n",
      "__________________________________________________________________________________________________\n",
      "lstm_3 (LSTM)                   [(None, None, 256),  394240      embedding_1[0][0]                \n",
      "                                                                 lstm_2[0][1]                     \n",
      "                                                                 lstm_2[0][2]                     \n",
      "__________________________________________________________________________________________________\n",
      "dense (Dense)                   (None, None, 5000)   1285000     lstm_3[0][0]                     \n",
      "==================================================================================================\n",
      "Total params: 4,916,104\n",
      "Trainable params: 4,916,104\n",
      "Non-trainable params: 0\n",
      "__________________________________________________________________________________________________\n"
     ]
    }
   ],
   "source": [
    "# 디코더의 출력층\n",
    "decoder_softmax_layer = Dense(tar_vocab, activation = 'softmax')\n",
    "decoder_softmax_outputs = decoder_softmax_layer(decoder_outputs) \n",
    "\n",
    "# 모델 정의\n",
    "model = Model([encoder_inputs, decoder_inputs], decoder_softmax_outputs)\n",
    "model.summary()"
   ]
  },
  {
   "cell_type": "code",
   "execution_count": 127,
   "metadata": {},
   "outputs": [],
   "source": [
    "urllib.request.urlretrieve(\"https://raw.githubusercontent.com/thushv89/attention_keras/master/src/layers/attention.py\", filename=\"attention.py\")\n",
    "from attention import AttentionLayer"
   ]
  },
  {
   "cell_type": "code",
   "execution_count": 128,
   "metadata": {},
   "outputs": [
    {
     "name": "stdout",
     "output_type": "stream",
     "text": [
      "Model: \"model_1\"\n",
      "__________________________________________________________________________________________________\n",
      "Layer (type)                    Output Shape         Param #     Connected to                     \n",
      "==================================================================================================\n",
      "input_1 (InputLayer)            [(None, 40)]         0                                            \n",
      "__________________________________________________________________________________________________\n",
      "embedding (Embedding)           (None, 40, 128)      1152000     input_1[0][0]                    \n",
      "__________________________________________________________________________________________________\n",
      "lstm (LSTM)                     [(None, 40, 256), (N 394240      embedding[0][0]                  \n",
      "__________________________________________________________________________________________________\n",
      "input_2 (InputLayer)            [(None, None)]       0                                            \n",
      "__________________________________________________________________________________________________\n",
      "lstm_1 (LSTM)                   [(None, 40, 256), (N 525312      lstm[0][0]                       \n",
      "__________________________________________________________________________________________________\n",
      "embedding_1 (Embedding)         (None, None, 128)    640000      input_2[0][0]                    \n",
      "__________________________________________________________________________________________________\n",
      "lstm_2 (LSTM)                   [(None, 40, 256), (N 525312      lstm_1[0][0]                     \n",
      "__________________________________________________________________________________________________\n",
      "lstm_3 (LSTM)                   [(None, None, 256),  394240      embedding_1[0][0]                \n",
      "                                                                 lstm_2[0][1]                     \n",
      "                                                                 lstm_2[0][2]                     \n",
      "__________________________________________________________________________________________________\n",
      "attention_layer (AttentionLayer ((None, None, 256),  131328      lstm_2[0][0]                     \n",
      "                                                                 lstm_3[0][0]                     \n",
      "__________________________________________________________________________________________________\n",
      "concat_layer (Concatenate)      (None, None, 512)    0           lstm_3[0][0]                     \n",
      "                                                                 attention_layer[0][0]            \n",
      "__________________________________________________________________________________________________\n",
      "dense_1 (Dense)                 (None, None, 5000)   2565000     concat_layer[0][0]               \n",
      "==================================================================================================\n",
      "Total params: 6,327,432\n",
      "Trainable params: 6,327,432\n",
      "Non-trainable params: 0\n",
      "__________________________________________________________________________________________________\n"
     ]
    }
   ],
   "source": [
    "# 어텐션 층(어텐션 함수)\n",
    "attn_layer = AttentionLayer(name='attention_layer')\n",
    "# 인코더와 디코더의 모든 time step의 hidden state를 어텐션 층에 전달하고 결과를 리턴\n",
    "attn_out, attn_states = attn_layer([encoder_outputs, decoder_outputs])\n",
    "\n",
    "# 어텐션의 결과와 디코더의 hidden state들을 연결\n",
    "decoder_concat_input = Concatenate(axis = -1, name='concat_layer')([decoder_outputs, attn_out])\n",
    "\n",
    "# 디코더의 출력층\n",
    "decoder_softmax_layer = Dense(tar_vocab, activation='softmax')\n",
    "decoder_softmax_outputs = decoder_softmax_layer(decoder_concat_input)\n",
    "\n",
    "# 모델 정의\n",
    "model = Model([encoder_inputs, decoder_inputs], decoder_softmax_outputs)\n",
    "model.summary()"
   ]
  },
  {
   "cell_type": "markdown",
   "metadata": {},
   "source": [
    "# 4. 모델 훈련하기"
   ]
  },
  {
   "cell_type": "code",
   "execution_count": 130,
   "metadata": {},
   "outputs": [
    {
     "name": "stdout",
     "output_type": "stream",
     "text": [
      "Epoch 1/50\n",
      "269/269 [==============================] - 72s 268ms/step - loss: 5.3330 - val_loss: 4.9600\n",
      "Epoch 2/50\n",
      "269/269 [==============================] - 70s 261ms/step - loss: 4.7941 - val_loss: 4.6407\n",
      "Epoch 3/50\n",
      "269/269 [==============================] - 70s 259ms/step - loss: 4.4644 - val_loss: 4.3557\n",
      "Epoch 4/50\n",
      "269/269 [==============================] - 69s 257ms/step - loss: 4.2040 - val_loss: 4.1441\n",
      "Epoch 5/50\n",
      "269/269 [==============================] - 69s 256ms/step - loss: 4.0025 - val_loss: 4.0101\n",
      "Epoch 6/50\n",
      "269/269 [==============================] - 69s 255ms/step - loss: 3.8397 - val_loss: 3.9033\n",
      "Epoch 7/50\n",
      "269/269 [==============================] - 69s 255ms/step - loss: 3.7004 - val_loss: 3.8019\n",
      "Epoch 8/50\n",
      "269/269 [==============================] - 69s 256ms/step - loss: 3.5776 - val_loss: 3.7275\n",
      "Epoch 9/50\n",
      "269/269 [==============================] - 69s 255ms/step - loss: 3.4704 - val_loss: 3.6636\n",
      "Epoch 10/50\n",
      "269/269 [==============================] - 69s 255ms/step - loss: 3.3734 - val_loss: 3.6263\n",
      "Epoch 11/50\n",
      "269/269 [==============================] - 68s 254ms/step - loss: 3.2860 - val_loss: 3.5736\n",
      "Epoch 12/50\n",
      "269/269 [==============================] - 68s 254ms/step - loss: 3.2059 - val_loss: 3.5454\n",
      "Epoch 13/50\n",
      "269/269 [==============================] - 69s 255ms/step - loss: 3.1358 - val_loss: 3.5103\n",
      "Epoch 14/50\n",
      "269/269 [==============================] - 68s 254ms/step - loss: 3.0708 - val_loss: 3.4873\n",
      "Epoch 15/50\n",
      "269/269 [==============================] - 68s 254ms/step - loss: 3.0100 - val_loss: 3.4637\n",
      "Epoch 16/50\n",
      "269/269 [==============================] - 68s 254ms/step - loss: 2.9538 - val_loss: 3.4476\n",
      "Epoch 17/50\n",
      "269/269 [==============================] - 69s 255ms/step - loss: 2.9005 - val_loss: 3.4295\n",
      "Epoch 18/50\n",
      "269/269 [==============================] - 68s 254ms/step - loss: 2.8518 - val_loss: 3.4151\n",
      "Epoch 19/50\n",
      "269/269 [==============================] - 68s 254ms/step - loss: 2.8045 - val_loss: 3.4056\n",
      "Epoch 20/50\n",
      "269/269 [==============================] - 68s 254ms/step - loss: 2.7623 - val_loss: 3.3954\n",
      "Epoch 21/50\n",
      "269/269 [==============================] - 68s 254ms/step - loss: 2.7211 - val_loss: 3.3901\n",
      "Epoch 22/50\n",
      "269/269 [==============================] - 68s 254ms/step - loss: 2.6812 - val_loss: 3.3870\n",
      "Epoch 23/50\n",
      "269/269 [==============================] - 68s 254ms/step - loss: 2.6464 - val_loss: 3.3772\n",
      "Epoch 24/50\n",
      "269/269 [==============================] - 68s 254ms/step - loss: 2.6117 - val_loss: 3.3671\n",
      "Epoch 25/50\n",
      "269/269 [==============================] - 68s 254ms/step - loss: 2.5783 - val_loss: 3.3648\n",
      "Epoch 26/50\n",
      "269/269 [==============================] - 68s 254ms/step - loss: 2.5441 - val_loss: 3.3690\n",
      "Epoch 27/50\n",
      "269/269 [==============================] - 68s 254ms/step - loss: 2.5170 - val_loss: 3.3681\n",
      "Epoch 00027: early stopping\n"
     ]
    }
   ],
   "source": [
    "model.compile(optimizer='rmsprop', loss='sparse_categorical_crossentropy')\n",
    "es = EarlyStopping(monitor='val_loss', mode='min', verbose=1, patience = 2)\n",
    "history = model.fit(x = [encoder_input_train, decoder_input_train], y = decoder_target_train, \\\n",
    "          validation_data = ([encoder_input_test, decoder_input_test], decoder_target_test),\n",
    "          batch_size = 256, callbacks=[es], epochs = 50)"
   ]
  },
  {
   "cell_type": "code",
   "execution_count": 131,
   "metadata": {},
   "outputs": [
    {
     "data": {
      "image/png": "[encoded data removed]",
      "text/plain": [
       "<Figure size 432x288 with 1 Axes>"
      ]
     },
     "metadata": {
      "needs_background": "light"
     },
     "output_type": "display_data"
    }
   ],
   "source": [
    "plt.plot(history.history['loss'], label='train')\n",
    "plt.plot(history.history['val_loss'], label='test')\n",
    "plt.legend()\n",
    "plt.show()"
   ]
  },
  {
   "cell_type": "markdown",
   "metadata": {},
   "source": [
    "# 5. 실제 동작(인퍼런스 단계) 모델 구현하기"
   ]
  },
  {
   "cell_type": "code",
   "execution_count": 132,
   "metadata": {},
   "outputs": [],
   "source": [
    "src_index_to_word = src_tokenizer.index_word # 원문 단어 집합에서 정수 -> 단어를 얻음\n",
    "tar_word_to_index = tar_tokenizer.word_index # 요약 단어 집합에서 단어 -> 정수를 얻음\n",
    "tar_index_to_word = tar_tokenizer.index_word # 요약 단어 집합에서 정수 -> 단어를 얻음"
   ]
  },
  {
   "cell_type": "code",
   "execution_count": 133,
   "metadata": {},
   "outputs": [],
   "source": [
    "# 인코더 설계\n",
    "encoder_model = Model(inputs=encoder_inputs, outputs=[encoder_outputs, state_h, state_c])\n",
    "\n",
    "# 이전 시점의 상태들을 저장하는 텐서\n",
    "decoder_state_input_h = Input(shape=(hidden_size,))\n",
    "decoder_state_input_c = Input(shape=(hidden_size,))\n",
    "\n",
    "dec_emb2 = dec_emb_layer(decoder_inputs)\n",
    "# 문장의 다음 단어를 예측하기 위해서 초기 상태(initial_state)를 이전 시점의 상태로 사용. 이는 뒤의 함수 decode_sequence()에 구현\n",
    "# 훈련 과정에서와 달리 LSTM의 리턴하는 은닉 상태와 셀 상태인 state_h와 state_c를 버리지 않음.\n",
    "decoder_outputs2, state_h2, state_c2 = decoder_lstm(dec_emb2, initial_state=[decoder_state_input_h, decoder_state_input_c])"
   ]
  },
  {
   "cell_type": "code",
   "execution_count": 134,
   "metadata": {},
   "outputs": [],
   "source": [
    "# 어텐션 함수\n",
    "decoder_hidden_state_input = Input(shape=(text_max_len, hidden_size))\n",
    "attn_out_inf, attn_states_inf = attn_layer([decoder_hidden_state_input, decoder_outputs2])\n",
    "decoder_inf_concat = Concatenate(axis=-1, name='concat')([decoder_outputs2, attn_out_inf])\n",
    "\n",
    "# 디코더의 출력층\n",
    "decoder_outputs2 = decoder_softmax_layer(decoder_inf_concat) \n",
    "\n",
    "# 최종 디코더 모델\n",
    "decoder_model = Model(\n",
    "    [decoder_inputs] + [decoder_hidden_state_input,decoder_state_input_h, decoder_state_input_c],\n",
    "    [decoder_outputs2] + [state_h2, state_c2])"
   ]
  },
  {
   "cell_type": "code",
   "execution_count": 135,
   "metadata": {},
   "outputs": [],
   "source": [
    "def decode_sequence(input_seq):\n",
    "    # 입력으로부터 인코더의 상태를 얻음\n",
    "    e_out, e_h, e_c = encoder_model.predict(input_seq)\n",
    "\n",
    "     # <SOS>에 해당하는 토큰 생성\n",
    "    target_seq = np.zeros((1,1))\n",
    "    target_seq[0, 0] = tar_word_to_index['sostoken']\n",
    "\n",
    "    stop_condition = False\n",
    "    decoded_sentence = ''\n",
    "    while not stop_condition: # stop_condition이 True가 될 때까지 루프 반복\n",
    "\n",
    "        output_tokens, h, c = decoder_model.predict([target_seq] + [e_out, e_h, e_c])\n",
    "        sampled_token_index = np.argmax(output_tokens[0, -1, :])\n",
    "        sampled_token = tar_index_to_word[sampled_token_index]\n",
    "\n",
    "        if(sampled_token!='eostoken'):\n",
    "            decoded_sentence += ' '+sampled_token\n",
    "\n",
    "        #  <eos>에 도달하거나 최대 길이를 넘으면 중단.\n",
    "        if (sampled_token == 'eostoken'  or len(decoded_sentence.split()) >= (summary_max_len-1)):\n",
    "            stop_condition = True\n",
    "\n",
    "        # 길이가 1인 타겟 시퀀스를 업데이트\n",
    "        target_seq = np.zeros((1,1))\n",
    "        target_seq[0, 0] = sampled_token_index\n",
    "\n",
    "        # 상태를 업데이트 합니다.\n",
    "        e_h, e_c = h, c\n",
    "\n",
    "    return decoded_sentence"
   ]
  },
  {
   "cell_type": "code",
   "execution_count": 136,
   "metadata": {},
   "outputs": [],
   "source": [
    "# 원문의 정수 시퀀스를 텍스트 시퀀스로 변환\n",
    "def seq2text(input_seq):\n",
    "    temp=''\n",
    "    for i in input_seq:\n",
    "        if(i!=0):\n",
    "            temp = temp + src_index_to_word[i]+' '\n",
    "    return temp\n",
    "\n",
    "# 요약문의 정수 시퀀스를 텍스트 시퀀스로 변환\n",
    "def seq2summary(input_seq):\n",
    "    temp=''\n",
    "    for i in input_seq:\n",
    "        if((i!=0 and i!=tar_word_to_index['sostoken']) and i!=tar_word_to_index['eostoken']):\n",
    "            temp = temp + tar_index_to_word[i] + ' '\n",
    "    return temp"
   ]
  },
  {
   "cell_type": "code",
   "execution_count": 137,
   "metadata": {},
   "outputs": [
    {
     "name": "stdout",
     "output_type": "stream",
     "text": [
      "원문 : bangladesh registered cricket fourth highest successful run chase highest asian side chasing sri lanka five wicket win saturday rahim named man match ball included five fours four sixes three participating nations win trophy \n",
      "실제 요약 : desh register best chase by an asian side in cricket \n",
      "예측 요약 :  bangladesh highest ever total total in cricket world cup\n",
      "\n",
      "\n",
      "원문 : facebook ceo mark zuckerberg said company inform million users whose data shared cambridge analytica zuckerberg added facebook build tool users check data part data scandal earlier revealed data users exploited influence us elections \n",
      "실제 요약 : will mn users data was exposed zuckerberg \n",
      "예측 요약 :  facebook data scandal could be facebook ceo\n",
      "\n",
      "\n",
      "원문 : friend year old youth died debris fell due storm delhi said people present took photos instead helping friend people kept screaming one tried help us added could call police \n",
      "실제 요약 : people took photos did not help delhi storm victim friend \n",
      "예측 요약 :  boy dies after falling into bridge in delhi\n",
      "\n",
      "\n",
      "원문 : us president donald trump administration issued permit energy company build xl pipeline blocked barack obama state department said project us national interest comes amid objections construction pipeline would carry lakh oil day \n",
      "실제 요약 : trump approves xl \n",
      "예측 요약 :  trump orders us govt to raise bn cryptocurrency\n",
      "\n",
      "\n",
      "원문 : former cricketers sunil gavaskar ravi shastri paid lakh four test india australia series earlier year highest paid commentator bcci former australian captain michael clarke received lakh four tests least paid commentator sanjay manjrekar received lakh bcci \n",
      "실제 요약 : gavaskar shastri paid by bcci for ind aus \n",
      "예측 요약 :  gavaskar shastri to be paid for sri lanka cricketers\n",
      "\n",
      "\n",
      "원문 : five men arrested bengaluru allegedly trying sell lakh men reportedly brought bird karnataka forest process interested buyers sell nabbed police raided room based tip found bird cage \n",
      "실제 요약 : arrested for trying to sell for in bengaluru \n",
      "예측 요약 :  men held for selling worth lakh in\n",
      "\n",
      "\n",
      "원문 : bangalore development authority decided build first fully integrated village near bengaluru built partnership private firms include commercial residential entertainment officials said enable employees live work complex avoid city traffic \n",
      "실제 요약 : to build its st fully near luru \n",
      "예측 요약 :  bengaluru to launch first electric electric factory in bengaluru\n",
      "\n",
      "\n",
      "원문 : pope francis treating rome poor homeless migrants day latest gesture towards people living society vatican wednesday said arranged tickets people pope past set places homeless get \n",
      "실제 요약 : pope homeless poor migrants to trip \n",
      "예측 요약 :  pope francis to help in\n",
      "\n",
      "\n",
      "원문 : indian para shuttler singles doubles bronze medals recently concluded spanish para badminton international held spain lost top seed france singles doubles umesh vikram kumar lost english pair daniel bobby \n",
      "실제 요약 : indian para bags two bronze medals in spain \n",
      "예측 요약 :  india doubles medals at cwg\n",
      "\n",
      "\n",
      "원문 : around youngsters uttar pradesh village decided auction republic day raise money drinking water village residents alleged shortage drinking water administration lack funds addressing problem decided auction said \n",
      "실제 요약 : youths to auction themselves on day to raise money for water \n",
      "예측 요약 :  up up to get water from june\n",
      "\n",
      "\n",
      "원문 : iran trolled football fans failed throw ball attempting dying seconds world cup group match saw spain win wednesday kissed ball failing generate enough long distance throw passed ball \n",
      "실제 요약 : player tries throw in final secs of game fails \n",
      "예측 요약 :  iran player who scored ball in world cup\n",
      "\n",
      "\n",
      "원문 : naval exercise like mock battle involving practice sessions naval ships vessels started annual bilateral exercise india us japan permanently added making exercise st edition naval exercise see participation ships aircraft two \n",
      "실제 요약 : what is the naval \n",
      "예측 요약 :  south korea to visit south korea sea\n",
      "\n",
      "\n",
      "원문 : social media platform facebook chief operating officer sheryl sandberg recent interview said technology changing economy certainly replacing jobs however added technology also used grow jobs facebook helping small businesses grow using technology people \n",
      "실제 요약 : technology is jobs facebook coo \n",
      "예측 요약 :  facebook should be facebook coo\n",
      "\n",
      "\n",
      "원문 : lok sabha mps submit application speaker citing reason leave taking applications received till february th lok sabha three years illness common reason absence applications election came second cited nine times detention jail third \n",
      "실제 요약 : what are the most common given by mps for absence \n",
      "예측 요약 :  lok sabha mps to be held for lok sabha\n",
      "\n",
      "\n",
      "원문 : staff research facility united states texas chased four foot escaped three caught facility animal capture team within half hour fourth one returned notably facility houses nearly \n",
      "실제 요약 : escape from research lab staff chase them on foot \n",
      "예측 요약 :  us man who opens man in hours\n",
      "\n",
      "\n",
      "원문 : rio olympics bronze medalist sakshi malik get married wrestler april rohtak sakshi shared photo facebook couple pre wedding photo shoot reveal date reportedly sent prime minister narendra modi cricketer sachin tendulkar badminton player pv sindhu among \n",
      "실제 요약 : sakshi malik to on april posts save the date photo \n",
      "예측 요약 :  sushil husband to marry girlfriend on december\n",
      "\n",
      "\n",
      "원문 : rio olympic silver medalist pv sindhu jumped two places second spot women singles ranking second time sindhu world number two position week april year sindhu three international titles year including korea open last week \n",
      "실제 요약 : pv sindhu becomes world number in latest rankings \n",
      "예측 요약 :  sindhu sindhu sindhu sindhu doubles badminton to win in world\n",
      "\n",
      "\n",
      "원문 : several students assam kept away schools fearing rss vaccine following widespread rumours might make kids vaccine rumoured plan rashtriya swayamsevak sangh check population growth never heard around parents said \n",
      "실제 요약 : assam students keep away from schools rss \n",
      "예측 요약 :  dalits are not against rss in wb\n",
      "\n",
      "\n",
      "원문 : four minute kiss real life couple rani rai known longest kiss indian cinema rani whose th birth anniversary observed thursday known first lady indian cinema however first screen kiss indian movie silent film throw \n",
      "실제 요약 : longest kiss in indian cinema was seen in film \n",
      "예측 요약 :  video shows sridevi in india\n",
      "\n",
      "\n",
      "원문 : noida police directed officials impose fine vehicles glasses remove black films windows spot officials said noticed many criminal activities including abduction liquor smuggling vehicles black films notably supreme court banned use glasses vehicles \n",
      "실제 요약 : noida police to impose fine on vehicles with glasses \n",
      "예측 요약 :  noida police bans police station from violating\n",
      "\n",
      "\n",
      "원문 : india clinched new zealand odi series indian captain virat kohli said things less running auto mode us speaking batting unit kohli said number four position looking rayudu starts playing like start feeling confident batting line \n",
      "실제 요약 : things are running in auto mode for us virat kohli \n",
      "예측 요약 :  kohli is the team of cricket team india captain\n",
      "\n",
      "\n",
      "원문 : responding shuttler saina nehwal decision train almost three years split coach said nice decided come back home india top player someone trained years added year old left academy moved bengaluru train kumar \n",
      "실제 요약 : that saina has decided to come back home \n",
      "예측 요약 :  india is the best coach\n",
      "\n",
      "\n",
      "원문 : talking towards artificial intelligence pm narendra modi recent event said ai made india made work india also said road ahead ai depends driven human intention determine artificial intelligence pm modi added \n",
      "실제 요약 : artificial intelligence should work for india pm modi \n",
      "예측 요약 :  india to work with india in india pm modi\n",
      "\n",
      "\n",
      "원문 : indian pacer deepak became rd player represent india one day making debut afghanistan asia cup tuesday year old played ms dhoni ipl picked wickets become leading wicket taker india team tour england earlier year \n",
      "실제 요약 : who is rd player to represent india in odis \n",
      "예측 요약 :  st indian to play int cricket in year old\n",
      "\n",
      "\n",
      "원문 : daughter former russian spy sergei skripal discharged uk hospital month nerve agent along father taken secure location following uk accused russia attack took place uk \n",
      "실제 요약 : ex spy daughter from hospital after poisoning \n",
      "예측 요약 :  russian spy daughter of poisoning in uk\n",
      "\n",
      "\n",
      "원문 : pictures actor aamir khan sporting nose upcoming film thugs hindostan emerged online source added character demands done physically film reportedly culture existed india pre independence era \n",
      "실제 요약 : pics show aamir with nose and \n"
     ]
    },
    {
     "name": "stdout",
     "output_type": "stream",
     "text": [
      "예측 요약 :  aamir khan to star in thugs of hindostan report\n",
      "\n",
      "\n",
      "원문 : congress vice president rahul gandhi saturday asked prime minister narendra modi vikas missing speeches gandhi asked pm modi answered questions gandhi posting report card gujarat every day speeches sole mode administration gandhi questioned \n",
      "실제 요약 : why is vikas missing from pm modi asks rahul \n",
      "예측 요약 :  rahul gandhi pm modi pay day for pm modi\n",
      "\n",
      "\n",
      "원문 : letter written mahatma gandhi wherein nature existence jesus christ sold undisclosed buyer able move beyond belief jesus one great teachers gandhi written religious elder us \n",
      "실제 요약 : gandhi letter on jesus sold for over lakh \n",
      "예측 요약 :  mahatma gandhi to mahatma gandhi\n",
      "\n",
      "\n",
      "원문 : book television friends exploring show history appeal release show th anniversary titled penned miller book also explore show high profile guest stars like brad jennifer \n",
      "실제 요약 : book on friends history to release on years of the show \n",
      "예측 요약 :  tv show to show in film on tv show report\n",
      "\n",
      "\n",
      "원문 : criticism public good faith amount punjab haryana high court said court observed hearing defamation complaint filed official villagers alleged abused sought transfer transfer cancelled official behalf \n",
      "실제 요약 : criticism of govt in good faith not defamation hc \n",
      "예측 요약 :  cannot be in case against hc\n",
      "\n",
      "\n",
      "원문 : jaguar land rover developed self driving car featuring virtual eyes company claims makes eye contact pedestrians car attempt take action either stopping line attempt human interaction driver person crossing road company said \n",
      "실제 요약 : develops self driving which have virtual eyes \n",
      "예측 요약 :  unveils concept concept car\n",
      "\n",
      "\n",
      "원문 : late actor kumar ex girlfriend isha decade long relationship said extremely shocked demise happen anyone young added isha said great potential actor threw away \n",
      "실제 요약 : by demise ex girlfriend isha \n",
      "예측 요약 :  am not karisma on dating rumours\n",
      "\n",
      "\n",
      "원문 : fatima sana shaikh starring opposite shah rukh khan upcoming biopic astronaut rakesh sharma first indian go space per reports film directed mahesh co produced earlier reports bhumi pednekar considered female lead role \n",
      "실제 요약 : to star opposite srk in rakesh sharma biopic reports \n",
      "예측 요약 :  dangal actress to star in srk starrer reports\n",
      "\n",
      "\n",
      "원문 : oldest record sort volcano goes back years form cave painting france discovered volcanic field dating period found km away confirming however oldest scientific account eruption dates ad describing italy mount \n",
      "실제 요약 : of was years ago \n",
      "예측 요약 :  world oldest to be world oldest\n",
      "\n",
      "\n",
      "원문 : actor salman khan said earlier used take work change ho gaya ko hi seriously realised nothing bigger work added salman said guys take work seriously \n",
      "실제 요약 : used to take my work too salman khan \n",
      "예측 요약 :  salman khan should be for not salman khan\n",
      "\n",
      "\n",
      "원문 : singer katy perry thursday posted photo instagram painted symbols cryptocurrencies like bitcoin ethereum crypto wrote alongside photo earlier november posted photo billionaire warren buffett captioned asking warren buffett thoughts cryptocurrency \n",
      "실제 요약 : katy perry posts pic of painted with cryptocurrencies \n",
      "예측 요약 :  katy perry ed sheeran to mine for\n",
      "\n",
      "\n",
      "원문 : scientists university manchester created world first robot capable building molecules individual robot made carbon hydrogen oxygen atoms single small design demand materials improve drug discovery reduce power requirements said researchers \n",
      "실제 요약 : world st robot capable of building made \n",
      "예측 요약 :  world smallest robot to be made\n",
      "\n",
      "\n",
      "원문 : vivek tiwari year old apple executive shot uttar pradesh policeman last week alive minutes bullet according post mortem report police failed get medical attention time added tiwari admitted hospital nearly minutes shot report added \n",
      "실제 요약 : apple exec was alive for mins after being shot medical report \n",
      "예측 요약 :  apple ceo stabbed to death by bike in delhi\n",
      "\n",
      "\n",
      "원문 : actress neha dhupia said people upon wearing clothes weight announced pregnancy added matter people think long healthy neha expecting first child husband angad bedi announced pregnancy three months marriage \n",
      "실제 요약 : was for weight gain clothes neha \n",
      "예측 요약 :  neha slams neha for neha pregnancy with her\n",
      "\n",
      "\n",
      "원문 : government primary school uttar pradesh turned dance bar locals night video incident emerged online shows two women dancing stage set front class also shows men throwing money dancing women \n",
      "실제 요약 : up govt school used as dance bar on \n",
      "예측 요약 :  school principal dance to dance at dance\n",
      "\n",
      "\n",
      "원문 : president ram nath kovind wednesday approved imposition governor rule jammu kashmir immediate effect comes bjp pulled alliance pdp state tuesday bjp general secretary ram madhav cited rising violence discrimination people belonging jammu reasons end alliance \n",
      "실제 요약 : president approves governor rule in with effect \n",
      "예측 요약 :  prez kovind extends support for ram sabha polls\n",
      "\n",
      "\n",
      "원문 : economist former vice chairman niti aayog arvind said economy could reach growth rate higher current financial year pointed recently released goldman sachs report makes case india growth notably india gdp growth rate \n",
      "실제 요약 : economy may grow by over in fy arvind \n",
      "예측 요약 :  india is very business economy niti aayog\n",
      "\n",
      "\n",
      "원문 : stating universities places people debate ideas former rbi governor raghuram rajan said one cannot side call anti national sometimes ideas shot become mainstream time added women rights th century accepted pointed \n",
      "실제 요약 : cannot call people anti national at universities rajan \n",
      "예측 요약 :  not possible for indians in cji\n",
      "\n",
      "\n",
      "원문 : netherlands national lost life tuesday jumped moving train rajasthan district deceased friend supposed board train agra boarded wrong train realising mistake jumped moving train deceased friend sustained minor injuries \n",
      "실제 요약 : dutch tourist jumps to death after boarding wrong train \n",
      "예측 요약 :  four year old express train in up train accident\n",
      "\n",
      "\n",
      "원문 : earliest size small dog three front legs four back harvard researchers shown increasing body weight prompted middle become stronger forces effect combined side led existing single animals \n",
      "실제 요약 : how became the only living animals with single \n",
      "예측 요약 :  dogs dog to be in\n",
      "\n",
      "\n",
      "원문 : nearly people fell ill allegedly due food poisoning wedding bihar district sunday people complained stomach food police suspect food prepared earlier day turned time served people \n",
      "실제 요약 : guests fall ill after having food at bihar wedding \n",
      "예측 요약 :  people fall sick after wedding found in bihar\n",
      "\n",
      "\n",
      "원문 : former india captain sourav ganguly said ajinkya rahane odi squad tour england harsh decision would still pick ajinkya rahane ahead rayudu ajinkya rahane far player england ball going move got good record england ganguly added \n",
      "실제 요약 : rahane from odi squad decision ganguly \n",
      "예측 요약 :  rahane to test yo test test test ganguly\n",
      "\n",
      "\n",
      "원문 : addressing rally jaipur ahead lok sabha elections rajasthan deputy chief minister sachin pilot said whole opposition watching narendra modi bjp added thanks rahul gandhi congress governments three states waived farm loans coming power \n",
      "실제 요약 : whole opposition watched how we pm bjp pilot \n",
      "예측 요약 :  pm modi is like pm modi\n",
      "\n",
      "\n",
      "원문 : president pranab mukherjee launched rashtrapati bhavan twitter account connect directly people currently lakh followers interestingly last two years tenure used teach class students school inside rashtrapati bhavan premises speaking museum developed rashtrapati bhavan building story \n",
      "실제 요약 : what were taken by president mukherjee \n",
      "예측 요약 :  prez kovind launches his own own name in\n",
      "\n",
      "\n",
      "원문 : varun dhawan talking upcoming film october said film based could remove shirt could act nothing said needed film career added different big commercial films summer type films \n",
      "실제 요약 : could not remove my shirt act in october varun \n",
      "예측 요약 :  am not just any in film varun dhawan\n",
      "\n",
      "\n"
     ]
    }
   ],
   "source": [
    "for i in range(50, 100):\n",
    "    print(\"원문 :\", seq2text(encoder_input_test[i]))\n",
    "    print(\"실제 요약 :\", seq2summary(decoder_input_test[i]))\n",
    "    print(\"예측 요약 :\", decode_sequence(encoder_input_test[i].reshape(1, text_max_len)))\n",
    "    print(\"\\n\")"
   ]
  },
  {
   "cell_type": "markdown",
   "metadata": {},
   "source": [
    "# 추출적 요약"
   ]
  },
  {
   "cell_type": "code",
   "execution_count": 138,
   "metadata": {},
   "outputs": [],
   "source": [
    "import requests\n",
    "from summa.summarizer import summarize"
   ]
  },
  {
   "cell_type": "code",
   "execution_count": 149,
   "metadata": {},
   "outputs": [],
   "source": [
    "import urllib.request\n",
    "urllib.request.urlretrieve(\"https://raw.githubusercontent.com/sunnysai12345/News_Summary/master/news_summary_more.csv\", filename=\"news_summary_more.csv\")\n",
    "data_raw = pd.read_csv('news_summary_more.csv', encoding='iso-8859-1')"
   ]
  },
  {
   "cell_type": "code",
   "execution_count": 150,
   "metadata": {},
   "outputs": [
    {
     "data": {
      "text/html": [
       "<div>\n",
       "<style scoped>\n",
       "    .dataframe tbody tr th:only-of-type {\n",
       "        vertical-align: middle;\n",
       "    }\n",
       "\n",
       "    .dataframe tbody tr th {\n",
       "        vertical-align: top;\n",
       "    }\n",
       "\n",
       "    .dataframe thead th {\n",
       "        text-align: right;\n",
       "    }\n",
       "</style>\n",
       "<table border=\"1\" class=\"dataframe\">\n",
       "  <thead>\n",
       "    <tr style=\"text-align: right;\">\n",
       "      <th></th>\n",
       "      <th>headlines</th>\n",
       "      <th>text</th>\n",
       "    </tr>\n",
       "  </thead>\n",
       "  <tbody>\n",
       "    <tr>\n",
       "      <th>0</th>\n",
       "      <td>upGrad learner switches to career in ML &amp; Al w...</td>\n",
       "      <td>Saurav Kant, an alumnus of upGrad and IIIT-B's...</td>\n",
       "    </tr>\n",
       "    <tr>\n",
       "      <th>1</th>\n",
       "      <td>Delhi techie wins free food from Swiggy for on...</td>\n",
       "      <td>Kunal Shah's credit card bill payment platform...</td>\n",
       "    </tr>\n",
       "    <tr>\n",
       "      <th>2</th>\n",
       "      <td>New Zealand end Rohit Sharma-led India's 12-ma...</td>\n",
       "      <td>New Zealand defeated India by 8 wickets in the...</td>\n",
       "    </tr>\n",
       "    <tr>\n",
       "      <th>3</th>\n",
       "      <td>Aegon life iTerm insurance plan helps customer...</td>\n",
       "      <td>With Aegon Life iTerm Insurance plan, customer...</td>\n",
       "    </tr>\n",
       "    <tr>\n",
       "      <th>4</th>\n",
       "      <td>Have known Hirani for yrs, what if MeToo claim...</td>\n",
       "      <td>Speaking about the sexual harassment allegatio...</td>\n",
       "    </tr>\n",
       "  </tbody>\n",
       "</table>\n",
       "</div>"
      ],
      "text/plain": [
       "                                           headlines  \\\n",
       "0  upGrad learner switches to career in ML & Al w...   \n",
       "1  Delhi techie wins free food from Swiggy for on...   \n",
       "2  New Zealand end Rohit Sharma-led India's 12-ma...   \n",
       "3  Aegon life iTerm insurance plan helps customer...   \n",
       "4  Have known Hirani for yrs, what if MeToo claim...   \n",
       "\n",
       "                                                text  \n",
       "0  Saurav Kant, an alumnus of upGrad and IIIT-B's...  \n",
       "1  Kunal Shah's credit card bill payment platform...  \n",
       "2  New Zealand defeated India by 8 wickets in the...  \n",
       "3  With Aegon Life iTerm Insurance plan, customer...  \n",
       "4  Speaking about the sexual harassment allegatio...  "
      ]
     },
     "execution_count": 150,
     "metadata": {},
     "output_type": "execute_result"
    }
   ],
   "source": [
    "data_raw.head()"
   ]
  },
  {
   "cell_type": "code",
   "execution_count": 152,
   "metadata": {},
   "outputs": [],
   "source": [
    "test = data_raw['text']"
   ]
  },
  {
   "cell_type": "code",
   "execution_count": 161,
   "metadata": {},
   "outputs": [
    {
     "data": {
      "text/plain": [
       "\"Congress candidate Shafia Zubair won the Ramgarh Assembly seat in Rajasthan, by defeating BJP's Sukhwant Singh with a margin of 12,228 votes in the bypoll. With this victory, Congress has taken its total to 100 seats in the 200-member assembly. The election to the Ramgarh seat was delayed due to the death of sitting MLA and BSP candidate Laxman Singh.\""
      ]
     },
     "execution_count": 161,
     "metadata": {},
     "output_type": "execute_result"
    }
   ],
   "source": [
    "test[9]"
   ]
  },
  {
   "cell_type": "code",
   "execution_count": 162,
   "metadata": {},
   "outputs": [],
   "source": [
    "t = \"Congress candidate Shafia Zubair won the Ramgarh Assembly seat in Rajasthan, by defeating BJP's Sukhwant Singh with a margin of 12,228 votes in the bypoll. With this victory, Congress has taken its total to 100 seats in the 200-member assembly. The election to the Ramgarh seat was delayed due to the death of sitting MLA and BSP candidate Laxman Singh.\""
   ]
  },
  {
   "cell_type": "code",
   "execution_count": 164,
   "metadata": {},
   "outputs": [
    {
     "data": {
      "text/plain": [
       "\"Congress candidate Shafia Zubair won the Ramgarh Assembly seat in Rajasthan, by defeating BJP's Sukhwant Singh with a margin of 12,228 votes in the bypoll.\""
      ]
     },
     "execution_count": 164,
     "metadata": {},
     "output_type": "execute_result"
    }
   ],
   "source": [
    "summarize(t, words=20)"
   ]
  },
  {
   "cell_type": "code",
   "execution_count": 169,
   "metadata": {},
   "outputs": [
    {
     "name": "stdout",
     "output_type": "stream",
     "text": [
      "Summary:\n",
      "Former Finance Minister Yashwant Sinha on Tuesday demanded a probe into the alleged diversion of loans worth Ã¢ÂÂ¹31,000 crore by Dewan Housing Finance (DHFL).\n",
      "Answer:\n",
      "Yashwant Sinha demands probe into alleged fund diversion by DHFL\n",
      "Summary:\n",
      "Boeing retained its position as the world's largest planemaker for the seventh straight year, delivering 806 aircraft in 2018.\n",
      "Answer:\n",
      "Boeing sales cross $100bn for 1st time in its 102-yr history\n",
      "Summary:\n",
      "\n",
      "Answer:\n",
      "headlines\n",
      "Summary:\n",
      "Further, its OnePlus 6 emerged as the highest selling premium smartphone of 2018 followed by OnePlus 6T.\n",
      "Answer:\n",
      "OnePlus named bestselling premium smartphone brand of 2018: Report\n",
      "Summary:\n",
      "\n",
      "Answer:\n",
      "Can never look at female body, even if naked, in vulgar way: Pooja\n",
      "Summary:\n",
      "Actress Mishti, who has featured in 'Manikarnika: The Queen of Jhansi', has said the film's co-director Kangana Ranaut made false promises to the cast.\n",
      "Answer:\n",
      "Kangana made fake promises to cast: 'Manikarnika' actress Mishti\n",
      "Summary:\n",
      "\n",
      "Answer:\n",
      "PM-led panel to meet on Friday to pick new CBI chief: Kharge\n",
      "Summary:\n",
      "\n",
      "Answer:\n",
      "McGregor fined Ã¢ÂÂ¹35 lakh, Khabib Ã¢ÂÂ¹3.5 crore for brawl; both banned\n",
      "Summary:\n",
      "\n",
      "Answer:\n",
      "Banned for 4 matches, Sarfaraz shares 'log hai na' poem for critics\n",
      "Summary:\n",
      "Sreesanth further said the bookie tried dragging him into spot-fixing but he didn't fall for it.\n",
      "Answer:\n",
      "Confessed to spot-fixing to escape police torture: Sreesanth to SC\n",
      "Summary:\n",
      "The Finance Ministry on Wednesday said the government will present an Interim Budget on February 1.\n",
      "Answer:\n",
      "Govt to present Interim Budget, not full Budget on February 1\n",
      "Summary:\n",
      "\n",
      "Answer:\n",
      "US intelligence naive and wrong, should go back to school: Trump\n",
      "Summary:\n",
      "A senior priest at the Vatican who handled cases of sexual abuse has quit after being accused of sexual abuse by a former nun.\n",
      "Answer:\n",
      "Vatican priest handling sex abuse cases quits over alleged sex abuse\n",
      "Summary:\n",
      "\n",
      "Answer:\n",
      "Woman rejects job after CEO bullies her in interview; he apologises\n",
      "Summary:\n",
      "\n",
      "Answer:\n",
      "Police officer probing Paytm extortion case arrested for extortion\n",
      "Summary:\n",
      "Airtel Africa, the holding company for Airtel's operations in 14 African countries, is preparing for an initial public offering.\n",
      "Answer:\n",
      "Qatar to invest $200 million in Airtel Africa\n",
      "Summary:\n",
      "Actor Shreyas Talpade said that 'Golmaal' filmmaker Rohit Shetty is still working on the script for the fifth instalment of the 'Golmaal' film franchise.\n",
      "Answer:\n",
      "Rohit Shetty still working on script for Golmaal 5: Shreyas\n",
      "Summary:\n",
      "\n",
      "Answer:\n",
      "Man sues Avengers actress Gwyneth for Ã¢ÂÂ¹22 crore over ski crash\n",
      "Summary:\n",
      "Yami Gautam was felicitated by Border Security Force (BSF) in Amritsar for her performance in 'Uri: The Surgical Strike'.\n",
      "Answer:\n",
      "Yami Gautam felicitated by BSF for performance in 'Uri...'\n",
      "Summary:\n",
      "\n",
      "Answer:\n",
      "Facebook hires its privacy critic as privacy policy manager\n",
      "Summary:\n",
      "\"WeÃ¢ÂÂve decided to go back to (iPhone prices) more commensurate with...local prices...a year ago,\" Cook added.\n",
      "Answer:\n",
      "Apple to cut some iPhones' prices outside US over strong dollar\n",
      "Summary:\n",
      "\"The majority of fatalities from shark bites is due to blood loss...shock from blood loss,\" a scientist said.\n",
      "Answer:\n",
      "Scientists test wetsuit to protect wearer after shark attack\n",
      "Summary:\n",
      "\n",
      "Answer:\n",
      "Come armed with sticks for PM Modi's rally in WB: BJP leader\n",
      "Summary:\n",
      "BJP President Amit Shah on Wednesday took a dig at the Opposition parties saying that the 'mahagathbandhan' for the Opposition is 4B - \"Bua-Bhatija-Bhai-Behen\".\n",
      "Answer:\n",
      "'4B' for Opposition is 'Bua-Bhatija-Bhai-Behen': Amit Shah\n",
      "Summary:\n",
      "Volkswagen's sales, including its MAN and Scania heavy trucks and buses, rose 0.9% to 10.83 million in 2018, the company had said.\n",
      "Answer:\n",
      "Volkswagen retains top spot in global sales, beats Toyota\n",
      "Summary:\n",
      "\n",
      "Answer:\n",
      "Plot, treason by Nissan executives led to my arrest: Ghosn\n",
      "Summary:\n",
      "The government has cut down customs duty on import of parts and components for electric vehicles to 10-15%, down from the previous 15-30%.\n",
      "Answer:\n",
      "Govt cuts customs duty on electric vehicle parts to 10-15%\n",
      "Summary:\n",
      "Government officials on Wednesday said that a swine flu outbreak has killed 76 people this year in Rajasthan.\n",
      "Answer:\n",
      "Swine flu outbreak kills 76 in Rajasthan\n",
      "Summary:\n",
      "\"North Korean leaders view nuclear arms as critical to regime survival,\" he added.\n",
      "Answer:\n",
      "N Korea unlikely to give up nuclear weapons: US intelligence chief\n",
      "Summary:\n",
      "Further, three aircraft have been temporarily grounded to carry out an engine normalisation exercise, it added.\n",
      "Answer:\n",
      "Jet Airways denies being told to ground aircraft\n",
      "Summary:\n",
      "Retired Justice Srikrishna's enquiry panel has found that ex-CEO Chanda Kochhar violated ICICI Bank's code of conduct.\n",
      "Answer:\n",
      "ICICI fires Chanda Kochhar, to take back bonuses paid in last 9 yrs\n",
      "Summary:\n",
      "\n",
      "Answer:\n",
      "Ex-cricketer Martin out of ICU after being on ventilator for a month\n",
      "Summary:\n",
      "Tanya accused Perera of meeting country's Sports Minister to secure his place in the team.\n",
      "Answer:\n",
      "Malinga's wife targets Perera on Facebook, he seeks board's help\n",
      "Summary:\n",
      "\n",
      "Answer:\n",
      "Don't use visit to ailing man for political gains: Goa CM to Rahul\n",
      "Summary:\n",
      "PM Modi then asked his officers to urgently arrange for an ambulance for the cameraman.\n",
      "Answer:\n",
      "PM Modi stops speech after cameraman faints, asks officers to help\n",
      "Summary:\n",
      "\n",
      "Answer:\n",
      "Couple divorces minutes after marriage as families fight over lunch\n",
      "Summary:\n",
      "\n",
      "Answer:\n",
      "Minister praises rape-convict Asaram over Matru-Pitru Divas\n",
      "Summary:\n",
      "Venezuelan President NicolÃÂ¡s Maduro has claimed that his American counterpart Donald Trump ordered the Colombian government and the Colombian mafia to kill him.\n",
      "Answer:\n",
      "Trump ordered to kill me: Venezuela President Maduro\n",
      "Summary:\n",
      "The richest among them is Hong Kong's Li Ka Shing with a net worth of $30.5 billion.\n",
      "Answer:\n",
      "8 Asian billionaires aged over 90, including Mistry, control $125bn\n",
      "Summary:\n",
      "Tamil Nadu food safety officials on Wednesday raided and seized 1,000 kgs of banned plastic items from Hotel Saravana Bhavan in Chennai's Vadapalani.\n",
      "Answer:\n",
      "1,000 kg banned plastic seized from Saravana Bhavan in Chennai\n",
      "Summary:\n",
      "Actress Shamita Shetty was verbally abused and her driver was slapped in an incident of road rage in Mumbai on Tuesday, as per reports.\n",
      "Answer:\n",
      "Shamita Shetty abused, driver slapped after accident: Report\n",
      "Summary:\n",
      "\n",
      "Answer:\n",
      "Trolling has become the norm on social media: Vaani\n",
      "Summary:\n",
      "\"This is an insult to [the] beauty of marriage,\" an Instagram user commented on her post.\n",
      "Answer:\n",
      "Whoever invented marriage was creepy as hell: Sushmita posts joke\n",
      "Summary:\n",
      "Television actor Karanvir Bohra, who flew to Russia on Tuesday to attend a film festival, has been detained in Moscow due to passport damage.\n",
      "Answer:\n",
      "Actor Karanvir Bohra detained in Russia over passport damage\n",
      "Summary:\n",
      "\n",
      "Answer:\n",
      "If I don't get an award, that award is at loss: SRK\n",
      "Summary:\n",
      "\n",
      "Answer:\n",
      "Actress Patralekhaa to make her Kannada film debut \n",
      "Summary:\n",
      "\n",
      "Answer:\n",
      "Gmail faces temporary global outage, users face '404 error'\n",
      "Summary:\n",
      "\n",
      "Answer:\n",
      "Decide about an alliance within 15 days: Uddhav to BJP\n",
      "Summary:\n",
      "He said the Opposition is thinking about leading the country but does not have a leader.\n",
      "Answer:\n",
      "Grand alliance, if wins, will see a new PM every day: Shah\n",
      "Summary:\n",
      "He added decisions like demonetisation and RERA have put a check on black money that used to be \"parked in the real estate sector\".\n",
      "Answer:\n",
      "Demonetisation made homes affordable for youth: PM Modi\n"
     ]
    }
   ],
   "source": [
    "for i in range(50,100):\n",
    "    print('Summary:')\n",
    "    print(summarize(test[i], words=12))\n",
    "    print('Answer:')\n",
    "    print(data_raw['headlines'][i])"
   ]
  },
  {
   "cell_type": "markdown",
   "metadata": {},
   "source": [
    "# 결과 및 느낀점"
   ]
  },
  {
   "cell_type": "markdown",
   "metadata": {},
   "source": [
    "1. 정답(headline)과 정확하게 같지는 않지만 같은 의미를 전달하는 내용으로 잘 요약된 것 같다.\n",
    "2. 인코더의 모든 step의 hidden state의 정보가 컨텍스트 벡터에 전부 반영되도록 하는 \"어텐션 메커니즘\"이 디코더의 현재 문장 생성 부위가 주어부인지 술어부인지 목적어인지 등에 따라 인코더가 입력 데이터를 해석한 컨텍스트 벡터가 다른 값이 된다는 점이 매우 좋은 아이디어인 것 같다.\n",
    "3. 빈도가 낮은 단어를 10%나 삭제했을 때의 vocab size가 꽤 큰 것 같다. 이럴 때, 삭제 비율을 높이고 사이즈를 줄이면 연산 속도는 빠르겠지만, 데이터 자체가 엄청 많은 것은 아니라서 정확도를 조금이라도 높이고자 10%의 삭제율을 선택했다. 하지만 정확도가 높지 않아서, 빈도가 낮아서 삭제되는 단어의 비율을 3~5%로 유지했어야 하는 생각이 든다."
   ]
  }
 ],
 "metadata": {
  "kernelspec": {
   "display_name": "Python 3",
   "language": "python",
   "name": "python3"
  },
  "language_info": {
   "codemirror_mode": {
    "name": "ipython",
    "version": 3
   },
   "file_extension": ".py",
   "mimetype": "text/x-python",
   "name": "python",
   "nbconvert_exporter": "python",
   "pygments_lexer": "ipython3",
   "version": "3.7.7"
  }
 },
 "nbformat": 4,
 "nbformat_minor": 4
}
