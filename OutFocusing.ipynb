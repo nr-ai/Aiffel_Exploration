version https://git-lfs.github.com/spec/v1
oid sha256:87c8503abd3b0beb73cd220566f0b35c98e17cb6cd92d1ea18558348f026f0c4
size 1397115
