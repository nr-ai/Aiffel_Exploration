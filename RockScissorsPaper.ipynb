{
 "cells": [
  {
   "cell_type": "markdown",
   "metadata": {},
   "source": [
    "# 가위바위보 image classsification\n",
    "데이터는 웹캠으로 촬영하여 생성 [Google Teachable machine](https://teachablemachine.withgoogle.com/) "
   ]
  },
  {
   "cell_type": "code",
   "execution_count": 4,
   "metadata": {},
   "outputs": [
    {
     "name": "stdout",
     "output_type": "stream",
     "text": [
      "Requirement already satisfied: pillow in /home/aiffel0035/anaconda3/envs/aiffel/lib/python3.7/site-packages (7.2.0)\r\n"
     ]
    }
   ],
   "source": [
    "# PIL 라이브러리가 설치되어 있지 않다면 설치\n",
    "!pip install pillow   \n",
    "\n",
    "from PIL import Image\n",
    "import os, glob\n",
    "import numpy as np\n",
    "import matplotlib.pyplot as plt"
   ]
  },
  {
   "cell_type": "markdown",
   "metadata": {},
   "source": [
    "### 데이터 사이즈 통일"
   ]
  },
  {
   "cell_type": "code",
   "execution_count": 5,
   "metadata": {},
   "outputs": [],
   "source": [
    "image_dir_path = os.getenv(\"HOME\") + \"/aiffel/rock_scissor_paper/rock\"\n",
    "images=glob.glob(image_dir_path + \"/*.jpg\")\n",
    "\n",
    "# 파일의 사이즈가 같게 사이즈 변환하여 저장합니다.\n",
    "target_size=(28,28)\n",
    "for img in images:\n",
    "    old_img=Image.open(img)\n",
    "    new_img=old_img.resize(target_size,Image.ANTIALIAS)\n",
    "    new_img.save(img,\"JPEG\")"
   ]
  },
  {
   "cell_type": "markdown",
   "metadata": {},
   "source": [
    "- PIL : 이미지 처리\n",
    "- os : 파일 열기 등 운영체제에서 제공하는 기능을 수행\n",
    "- glob : 파일 리스트, 확장자를 포함한 파일 경로 뽑아내기"
   ]
  },
  {
   "cell_type": "markdown",
   "metadata": {},
   "source": [
    "### 데이터 로드 & 데이터 정규화\n",
    "1. 이미지 데이터와 라벨 데이터를 담을 행렬 생성\n",
    "2. 이미지 행렬 영역에 이미지 데이터 복사 및 index 지정\n",
    "3. 해당 index를 가진 라벨 행렬에 정답(가위, 바위, 보) 지정 \n",
    "4. 이미지 행렬 value가 0과 1 사이로 나오도록 정규화"
   ]
  },
  {
   "cell_type": "code",
   "execution_count": 6,
   "metadata": {},
   "outputs": [
    {
     "name": "stdout",
     "output_type": "stream",
     "text": [
      "x_train shape: (1200, 28, 28, 3)\n",
      "y_train shape: (1200,)\n"
     ]
    }
   ],
   "source": [
    "def load_data(img_path):\n",
    "    number_of_data=1200   # 가위바위보 이미지 개수 총합\n",
    "    img_size=28\n",
    "    color=3\n",
    "    #이미지 데이터와 라벨(가위 : 0, 바위 : 1, 보 : 2) 데이터를 담을 행렬(matrix) 영역을 생성합니다.\n",
    "    imgs=np.zeros(number_of_data*img_size*img_size*color,dtype=np.int32).reshape(number_of_data,img_size,img_size,color)\n",
    "    labels=np.zeros(number_of_data,dtype=np.int32)\n",
    "\n",
    "    idx=0\n",
    "    for file in glob.iglob(img_path+'/scissor/*.jpg'):\n",
    "        img = np.array(Image.open(file),dtype=np.int32)\n",
    "        imgs[idx,:,:,:]=img    # 데이터 영역에 이미지 행렬을 복사\n",
    "        labels[idx]=0   # 가위 : 0\n",
    "        idx=idx+1\n",
    "\n",
    "    for file in glob.iglob(img_path+'/rock/*.jpg'):\n",
    "        img = np.array(Image.open(file),dtype=np.int32)\n",
    "        imgs[idx,:,:,:]=img    # 데이터 영역에 이미지 행렬을 복사\n",
    "        labels[idx]=1   # 바위 : 1\n",
    "        idx=idx+1       \n",
    "    \n",
    "    for file in glob.iglob(img_path+'/paper/*.jpg'):\n",
    "        img = np.array(Image.open(file),dtype=np.int32)\n",
    "        imgs[idx,:,:,:]=img    # 데이터 영역에 이미지 행렬을 복사\n",
    "        labels[idx]=2   # 보 : 2\n",
    "        idx=idx+1\n",
    "    return imgs, labels\n",
    "\n",
    "image_dir_path = os.getenv(\"HOME\") + \"/aiffel/rock_scissor_paper\"\n",
    "(x_train, y_train)=load_data(image_dir_path)\n",
    "x_train_norm = x_train/255.0   # 입력은 0~1 사이의 값으로 정규화\n",
    "\n",
    "print(\"x_train shape: {}\".format(x_train.shape))\n",
    "print(\"y_train shape: {}\".format(y_train.shape))"
   ]
  },
  {
   "cell_type": "code",
   "execution_count": 7,
   "metadata": {},
   "outputs": [
    {
     "name": "stdout",
     "output_type": "stream",
     "text": [
      "학습데이터(x_test)의 이미지 개수는 300 입니다.\n",
      "x_train shape: (300, 28, 28, 3)\n",
      "y_train shape: (300,)\n"
     ]
    }
   ],
   "source": [
    "def load_data_test(img_path):\n",
    "    # 가위 : 0, 바위 : 1, 보 : 2\n",
    "    number_of_data=300   # 가위바위보 이미지 개수 총합에 주의하세요.\n",
    "    img_size=28\n",
    "    color=3\n",
    "    #이미지 데이터와 라벨(가위 : 0, 바위 : 1, 보 : 2) 데이터를 담을 행렬(matrix) 영역을 생성합니다.\n",
    "    imgs=np.zeros(number_of_data*img_size*img_size*color,dtype=np.int32).reshape(number_of_data,img_size,img_size,color)\n",
    "    labels=np.zeros(number_of_data,dtype=np.int32)\n",
    "\n",
    "    idx=0\n",
    "    for file in glob.iglob(img_path+'/scissors_test/*.jpg'):\n",
    "        img = np.array(Image.open(file),dtype=np.int32)\n",
    "        imgs[idx,:,:,:]=img    # 데이터 영역에 이미지 행렬을 복사\n",
    "        labels[idx]=0   # 가위 : 0\n",
    "        idx=idx+1\n",
    "\n",
    "    for file in glob.iglob(img_path+'/rock_test/*.jpg'):\n",
    "        img = np.array(Image.open(file),dtype=np.int32)\n",
    "        imgs[idx,:,:,:]=img    # 데이터 영역에 이미지 행렬을 복사\n",
    "        labels[idx]=1   # 바위 : 1\n",
    "        idx=idx+1       \n",
    "    \n",
    "    for file in glob.iglob(img_path+'/paper_test/*.jpg'):\n",
    "        img = np.array(Image.open(file),dtype=np.int32)\n",
    "        imgs[idx,:,:,:]=img    # 데이터 영역에 이미지 행렬을 복사\n",
    "        labels[idx]=2   # 보 : 2\n",
    "        idx=idx+1\n",
    "        \n",
    "    print(\"학습데이터(x_test)의 이미지 개수는\",idx,\"입니다.\")\n",
    "    return imgs, labels\n",
    "\n",
    "image_dir_path = os.getenv(\"HOME\") + \"/aiffel/rock_scissor_paper\"\n",
    "(x_test, y_test)=load_data_test(image_dir_path)\n",
    "x_test_norm = x_test/255.0   # 입력은 0~1 사이의 값으로 정규화\n",
    "\n",
    "print(\"x_train shape: {}\".format(x_test.shape))\n",
    "print(\"y_train shape: {}\".format(y_test.shape))"
   ]
  },
  {
   "cell_type": "code",
   "execution_count": 8,
   "metadata": {},
   "outputs": [],
   "source": [
    "import tensorflow as tf\n",
    "from tensorflow import keras"
   ]
  },
  {
   "cell_type": "markdown",
   "metadata": {},
   "source": [
    "### 딥러닝 모델 만들기\n",
    "- 3개로 classification 하는 모델이기 때문에, 복잡도를 크게 늘리지 않아도 된다고 생각했다. 첫번째 convlution layer에서는 16 feature 로 시작하였다. \n",
    "- 이미지 사이즈가 작아서 maxpooling 횟수를 1번만 하였다.\n",
    "- 3개로 classification 하는 모델이기 때문에, flatten 후에 20으로 줄여주었다."
   ]
  },
  {
   "cell_type": "code",
   "execution_count": 22,
   "metadata": {},
   "outputs": [
    {
     "name": "stdout",
     "output_type": "stream",
     "text": [
      "Model: \"sequential_6\"\n",
      "_________________________________________________________________\n",
      "Layer (type)                 Output Shape              Param #   \n",
      "=================================================================\n",
      "conv2d_15 (Conv2D)           (None, 26, 26, 16)        448       \n",
      "_________________________________________________________________\n",
      "conv2d_16 (Conv2D)           (None, 24, 24, 32)        4640      \n",
      "_________________________________________________________________\n",
      "conv2d_17 (Conv2D)           (None, 22, 22, 64)        18496     \n",
      "_________________________________________________________________\n",
      "max_pooling2d_9 (MaxPooling2 (None, 11, 11, 64)        0         \n",
      "_________________________________________________________________\n",
      "flatten_6 (Flatten)          (None, 7744)              0         \n",
      "_________________________________________________________________\n",
      "dense_12 (Dense)             (None, 20)                154900    \n",
      "_________________________________________________________________\n",
      "dense_13 (Dense)             (None, 3)                 63        \n",
      "=================================================================\n",
      "Total params: 178,547\n",
      "Trainable params: 178,547\n",
      "Non-trainable params: 0\n",
      "_________________________________________________________________\n"
     ]
    }
   ],
   "source": [
    "model = keras.models.Sequential()\n",
    "model.add(keras.layers.Conv2D(16,(3,3), activation ='relu', input_shape=(28,28,3)))\n",
    "model.add(keras.layers.Conv2D(32,(3,3), activation ='relu'))\n",
    "model.add(keras.layers.Conv2D(64,(3,3), activation ='relu'))\n",
    "model.add(keras.layers.MaxPool2D(2,2))\n",
    "model.add(keras.layers.Flatten())\n",
    "model.add(keras.layers.Dense(20, activation='relu'))\n",
    "model.add(keras.layers.Dense(3, activation='softmax'))\n",
    "model.summary()"
   ]
  },
  {
   "cell_type": "markdown",
   "metadata": {},
   "source": [
    "### 딥러닝 모델 학습하기\n",
    "1. 준비된 데이터셋을 모델 input format에 맞도록 reshape\n",
    "2. 모델을 어떻게 학습시킬 것인지 optimizer, loss 방법을 지정\n",
    "3. 학습 반복 횟수를 지정하고, 학습"
   ]
  },
  {
   "cell_type": "code",
   "execution_count": 23,
   "metadata": {},
   "outputs": [
    {
     "name": "stdout",
     "output_type": "stream",
     "text": [
      "Epoch 1/40\n",
      "38/38 [==============================] - 0s 2ms/step - loss: 1.0591 - accuracy: 0.4708\n",
      "Epoch 2/40\n",
      "38/38 [==============================] - 0s 2ms/step - loss: 0.7370 - accuracy: 0.6633\n",
      "Epoch 3/40\n",
      "38/38 [==============================] - 0s 2ms/step - loss: 0.4205 - accuracy: 0.8350\n",
      "Epoch 4/40\n",
      "38/38 [==============================] - 0s 2ms/step - loss: 0.2593 - accuracy: 0.9067\n",
      "Epoch 5/40\n",
      "38/38 [==============================] - 0s 2ms/step - loss: 0.1379 - accuracy: 0.9567\n",
      "Epoch 6/40\n",
      "38/38 [==============================] - 0s 2ms/step - loss: 0.0667 - accuracy: 0.9825\n",
      "Epoch 7/40\n",
      "38/38 [==============================] - 0s 2ms/step - loss: 0.0550 - accuracy: 0.9892\n",
      "Epoch 8/40\n",
      "38/38 [==============================] - 0s 2ms/step - loss: 0.0367 - accuracy: 0.9917\n",
      "Epoch 9/40\n",
      "38/38 [==============================] - 0s 2ms/step - loss: 0.0152 - accuracy: 0.9983\n",
      "Epoch 10/40\n",
      "38/38 [==============================] - 0s 2ms/step - loss: 0.0128 - accuracy: 0.9992\n",
      "Epoch 11/40\n",
      "38/38 [==============================] - 0s 3ms/step - loss: 0.0098 - accuracy: 0.9992\n",
      "Epoch 12/40\n",
      "38/38 [==============================] - 0s 2ms/step - loss: 0.0030 - accuracy: 1.0000\n",
      "Epoch 13/40\n",
      "38/38 [==============================] - 0s 2ms/step - loss: 0.0021 - accuracy: 1.0000\n",
      "Epoch 14/40\n",
      "38/38 [==============================] - 0s 2ms/step - loss: 0.0015 - accuracy: 1.0000\n",
      "Epoch 15/40\n",
      "38/38 [==============================] - 0s 3ms/step - loss: 0.0013 - accuracy: 1.0000\n",
      "Epoch 16/40\n",
      "38/38 [==============================] - 0s 2ms/step - loss: 0.0011 - accuracy: 1.0000\n",
      "Epoch 17/40\n",
      "38/38 [==============================] - 0s 2ms/step - loss: 8.6613e-04 - accuracy: 1.0000\n",
      "Epoch 18/40\n",
      "38/38 [==============================] - 0s 2ms/step - loss: 8.6184e-04 - accuracy: 1.0000\n",
      "Epoch 19/40\n",
      "38/38 [==============================] - 0s 2ms/step - loss: 6.8600e-04 - accuracy: 1.0000\n",
      "Epoch 20/40\n",
      "38/38 [==============================] - 0s 2ms/step - loss: 5.8125e-04 - accuracy: 1.0000\n",
      "Epoch 21/40\n",
      "38/38 [==============================] - 0s 2ms/step - loss: 5.3990e-04 - accuracy: 1.0000\n",
      "Epoch 22/40\n",
      "38/38 [==============================] - 0s 2ms/step - loss: 4.8569e-04 - accuracy: 1.0000\n",
      "Epoch 23/40\n",
      "38/38 [==============================] - 0s 2ms/step - loss: 4.3343e-04 - accuracy: 1.0000\n",
      "Epoch 24/40\n",
      "38/38 [==============================] - 0s 2ms/step - loss: 3.9090e-04 - accuracy: 1.0000\n",
      "Epoch 25/40\n",
      "38/38 [==============================] - 0s 2ms/step - loss: 3.5739e-04 - accuracy: 1.0000\n",
      "Epoch 26/40\n",
      "38/38 [==============================] - 0s 2ms/step - loss: 3.3473e-04 - accuracy: 1.0000\n",
      "Epoch 27/40\n",
      "38/38 [==============================] - 0s 2ms/step - loss: 2.9620e-04 - accuracy: 1.0000\n",
      "Epoch 28/40\n",
      "38/38 [==============================] - 0s 2ms/step - loss: 2.7816e-04 - accuracy: 1.0000\n",
      "Epoch 29/40\n",
      "38/38 [==============================] - 0s 2ms/step - loss: 2.6321e-04 - accuracy: 1.0000\n",
      "Epoch 30/40\n",
      "38/38 [==============================] - 0s 2ms/step - loss: 2.4204e-04 - accuracy: 1.0000\n",
      "Epoch 31/40\n",
      "38/38 [==============================] - 0s 2ms/step - loss: 2.2715e-04 - accuracy: 1.0000\n",
      "Epoch 32/40\n",
      "38/38 [==============================] - 0s 2ms/step - loss: 2.1614e-04 - accuracy: 1.0000\n",
      "Epoch 33/40\n",
      "38/38 [==============================] - 0s 2ms/step - loss: 1.9488e-04 - accuracy: 1.0000\n",
      "Epoch 34/40\n",
      "38/38 [==============================] - 0s 2ms/step - loss: 1.8029e-04 - accuracy: 1.0000\n",
      "Epoch 35/40\n",
      "38/38 [==============================] - 0s 2ms/step - loss: 1.7081e-04 - accuracy: 1.0000\n",
      "Epoch 36/40\n",
      "38/38 [==============================] - 0s 2ms/step - loss: 1.6384e-04 - accuracy: 1.0000\n",
      "Epoch 37/40\n",
      "38/38 [==============================] - 0s 2ms/step - loss: 1.4919e-04 - accuracy: 1.0000\n",
      "Epoch 38/40\n",
      "38/38 [==============================] - 0s 2ms/step - loss: 1.4354e-04 - accuracy: 1.0000\n",
      "Epoch 39/40\n",
      "38/38 [==============================] - 0s 2ms/step - loss: 1.3653e-04 - accuracy: 1.0000\n",
      "Epoch 40/40\n",
      "38/38 [==============================] - 0s 2ms/step - loss: 1.2906e-04 - accuracy: 1.0000\n"
     ]
    },
    {
     "data": {
      "text/plain": [
       "<tensorflow.python.keras.callbacks.History at 0x7fc9803a4f50>"
      ]
     },
     "execution_count": 23,
     "metadata": {},
     "output_type": "execute_result"
    }
   ],
   "source": [
    "x_train_reshaped=x_train_norm.reshape(1200,28,28,3)\n",
    "x_test_reshaped=x_test_norm.reshape(300,28,28,3)\n",
    "\n",
    "model.compile(optimizer='adam', \n",
    "              loss='sparse_categorical_crossentropy',\n",
    "              metrics=['accuracy'])\n",
    "\n",
    "model.fit(x_train_reshaped, y_train, epochs=40)"
   ]
  },
  {
   "cell_type": "markdown",
   "metadata": {},
   "source": [
    "### 학습된 모델 성능 확인하기"
   ]
  },
  {
   "cell_type": "code",
   "execution_count": 25,
   "metadata": {},
   "outputs": [
    {
     "name": "stdout",
     "output_type": "stream",
     "text": [
      "10/10 - 0s - loss: 6.7647 - accuracy: 0.5700\n",
      "test_loss: 6.764745235443115 \n",
      "test_accuracy: 0.5699999928474426\n"
     ]
    }
   ],
   "source": [
    "test_loss, test_accuracy = model.evaluate(x_test_reshaped, y_test, verbose=2)\n",
    "print(\"test_loss: {} \".format(test_loss))\n",
    "print(\"test_accuracy: {}\".format(test_accuracy))"
   ]
  },
  {
   "cell_type": "markdown",
   "metadata": {},
   "source": [
    "### (optional) 예측 실패한 데이터 확인해보기"
   ]
  },
  {
   "cell_type": "code",
   "execution_count": 26,
   "metadata": {},
   "outputs": [
    {
     "name": "stdout",
     "output_type": "stream",
     "text": [
      "예측확률분포:[8.6723250e-01 1.3276617e-01 1.3834656e-06]\n",
      "라벨:2, 예측결과: 0\n"
     ]
    },
    {
     "data": {
      "image/png": "[encoded data removed]",
      "text/plain": [
       "<Figure size 432x288 with 1 Axes>"
      ]
     },
     "metadata": {
      "needs_background": "light"
     },
     "output_type": "display_data"
    },
    {
     "name": "stdout",
     "output_type": "stream",
     "text": [
      "예측확률분포:[1.0114107e-03 9.9898857e-01 1.5303511e-09]\n",
      "라벨:0, 예측결과: 1\n"
     ]
    },
    {
     "data": {
      "image/png": "[encoded data removed]",
      "text/plain": [
       "<Figure size 432x288 with 1 Axes>"
      ]
     },
     "metadata": {
      "needs_background": "light"
     },
     "output_type": "display_data"
    },
    {
     "name": "stdout",
     "output_type": "stream",
     "text": [
      "예측확률분포:[0.9303941  0.05900607 0.01059987]\n",
      "라벨:1, 예측결과: 0\n"
     ]
    },
    {
     "data": {
      "image/png": "[encoded data removed]",
      "text/plain": [
       "<Figure size 432x288 with 1 Axes>"
      ]
     },
     "metadata": {
      "needs_background": "light"
     },
     "output_type": "display_data"
    },
    {
     "name": "stdout",
     "output_type": "stream",
     "text": [
      "예측확률분포:[9.9251175e-01 7.4883173e-03 8.2214946e-09]\n",
      "라벨:2, 예측결과: 0\n"
     ]
    },
    {
     "data": {
      "image/png": "[encoded data removed]",
      "text/plain": [
       "<Figure size 432x288 with 1 Axes>"
      ]
     },
     "metadata": {
      "needs_background": "light"
     },
     "output_type": "display_data"
    },
    {
     "name": "stdout",
     "output_type": "stream",
     "text": [
      "예측확률분포:[9.9540943e-01 4.5905593e-03 2.5116874e-08]\n",
      "라벨:2, 예측결과: 0\n"
     ]
    },
    {
     "data": {
      "image/png": "[encoded data removed]",
      "text/plain": [
       "<Figure size 432x288 with 1 Axes>"
      ]
     },
     "metadata": {
      "needs_background": "light"
     },
     "output_type": "display_data"
    }
   ],
   "source": [
    "predicted_result = model.predict(x_test_reshaped)\n",
    "predicted_labels = np.argmax(predicted_result, axis=1)\n",
    "\n",
    "import random\n",
    "wrong_predict_list=[]\n",
    "for i, _ in enumerate(predicted_labels):\n",
    "    if predicted_labels[i] !=y_test[i]:\n",
    "        wrong_predict_list.append(i)\n",
    "samples = random.choices(population=wrong_predict_list, k=5)\n",
    "\n",
    "for n in samples:\n",
    "    print(\"예측확률분포:\"+str(predicted_result[n]))\n",
    "    print(\"라벨:\" + str(y_test[n]) + \", 예측결과: \" +str(predicted_labels[n]))\n",
    "    plt.imshow(x_test[n], cmap=plt.cm.binary)\n",
    "    plt.show()"
   ]
  }
 ],
 "metadata": {
  "kernelspec": {
   "display_name": "aiffel",
   "language": "python",
   "name": "aiffel"
  },
  "language_info": {
   "codemirror_mode": {
    "name": "ipython",
    "version": 3
   },
   "file_extension": ".py",
   "mimetype": "text/x-python",
   "name": "python",
   "nbconvert_exporter": "python",
   "pygments_lexer": "ipython3",
   "version": "3.7.6"
  }
 },
 "nbformat": 4,
 "nbformat_minor": 4
}
