version https://git-lfs.github.com/spec/v1
oid sha256:5e0ae4dc75c810a3e9a818d73e92ca8b497ae578ede9207e80315f61a2cb60d7
size 1247327
