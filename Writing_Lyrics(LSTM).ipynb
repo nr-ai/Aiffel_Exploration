{
 "cells": [
  {
   "cell_type": "markdown",
   "metadata": {},
   "source": [
    "## 데이터 읽어오기"
   ]
  },
  {
   "cell_type": "code",
   "execution_count": 1,
   "metadata": {},
   "outputs": [
    {
     "name": "stdout",
     "output_type": "stream",
     "text": [
      "데이터 크기: 187088\n",
      "Examples:\n",
      " ['Can we forget about the things I said when I was drunk...', \"I didn't mean to call you that\", \"I can't remember what was said\"]\n"
     ]
    }
   ],
   "source": [
    "import glob\n",
    "import os\n",
    "\n",
    "txt_file_path = os.getenv('HOME')+'/aiffel//lyricist/data/lyrics/*'\n",
    "\n",
    "txt_list = glob.glob(txt_file_path)\n",
    "\n",
    "raw_corpus = []\n",
    "\n",
    "# 여러개의 txt 파일을 모두 읽어서 raw_corpus 에 담습니다.\n",
    "for txt_file in txt_list:\n",
    "    with open(txt_file, \"r\") as f:\n",
    "        raw = f.read().splitlines()\n",
    "        raw_corpus.extend(raw)\n",
    "\n",
    "print(\"데이터 크기:\", len(raw_corpus))\n",
    "print(\"Examples:\\n\", raw_corpus[:3])"
   ]
  },
  {
   "cell_type": "markdown",
   "metadata": {},
   "source": [
    "## 데이터 정제\n",
    "- preprocess_sentence() 함수\n",
    "- 문장을 토큰화 했을 때 토큰의 개수가 15개를 넘어가면 잘라내기를 권합니다."
   ]
  },
  {
   "cell_type": "code",
   "execution_count": 2,
   "metadata": {},
   "outputs": [],
   "source": [
    "import re                  # 정규표현식을 위한 Regex 지원 모듈 (문장 데이터를 정돈하기 위해) \n",
    "import numpy as np         # 변환된 문장 데이터(행렬)을 편하게 처리하기 위해\n",
    "import tensorflow as tf    # 대망의 텐서플로우!\n",
    "import os"
   ]
  },
  {
   "cell_type": "code",
   "execution_count": 5,
   "metadata": {},
   "outputs": [
    {
     "name": "stdout",
     "output_type": "stream",
     "text": [
      "<start> this is sample sentence . <end>\n"
     ]
    }
   ],
   "source": [
    "def preprocess_sentence(sentence):\n",
    "    sentence = sentence.lower().strip()       # 소문자로 바꾸고 양쪽 공백을 삭제\n",
    "  \n",
    "    # 아래 3단계를 거쳐 sentence는 스페이스 1개를 delimeter로 하는 소문자 단어 시퀀스로 바뀝니다.\n",
    "    sentence = re.sub(r\"([?.!,¿])\", r\" \\1 \", sentence)        # 패턴의 특수문자를 만나면 특수문자 양쪽에 공백을 추가\n",
    "    sentence = re.sub(r'[\" \"]+', \" \", sentence)                  # 공백 패턴을 만나면 스페이스 1개로 치환\n",
    "    sentence = re.sub(r\"[^a-zA-Z?.!,¿]+\", \" \", sentence)  # a-zA-Z?.!,¿ 패턴을 제외한 모든 문자(공백문자까지도)를 스페이스 1개로 치환\n",
    "\n",
    "    sentence = sentence.strip()\n",
    "\n",
    "    sentence = '<start> ' + sentence + ' <end>'      # 이전 스텝에서 본 것처럼 문장 앞뒤로 <start>와 <end>를 단어처럼 붙여 줍니다\n",
    "    \n",
    "    return sentence\n",
    "\n",
    "print(preprocess_sentence(\"This @_is ;;;sample        sentence.\"))   # 이 문장이 어떻게 필터링되는지 확인해 보세요."
   ]
  },
  {
   "cell_type": "code",
   "execution_count": 71,
   "metadata": {},
   "outputs": [
    {
     "data": {
      "text/plain": [
       "['<start> can we forget about the things i said when i was drunk . . . <end>',\n",
       " '<start> i didn t mean to call you that <end>',\n",
       " '<start> i can t remember what was said <end>',\n",
       " '<start> or what you threw at me please tell me <end>',\n",
       " '<start> please tell me why <end>',\n",
       " '<start> my car is in the front yard <end>',\n",
       " '<start> and i am sleeping with my cloths on <end>',\n",
       " '<start> i came in throught the window . . . last night <end>',\n",
       " '<start> and your . . . gone <end>',\n",
       " '<start> gone it s no suprise to me i am my own worst enemy <end>']"
      ]
     },
     "execution_count": 71,
     "metadata": {},
     "output_type": "execute_result"
    }
   ],
   "source": [
    "corpus = []\n",
    "\n",
    "for sentence in raw_corpus:\n",
    "    if len(sentence) == 0: continue\n",
    "    corpus.append(preprocess_sentence(sentence))\n",
    "        \n",
    "corpus[:10]"
   ]
  },
  {
   "cell_type": "markdown",
   "metadata": {},
   "source": [
    "## 평가 데이터셋 분리\n",
    "- tokenize() 함수로 데이터를 Tensor로 변환한 후, \n",
    "- sklearn 모듈의 train_test_split() 함수를 사용해 훈련 데이터와 평가 데이터를 분리하도록 하겠습니다.\n",
    "- 단어장의 크기는 12,000 이상으로 설정하세요! 총 데이터의 20%를 평가 데이터셋으로 사용해 주세요!"
   ]
  },
  {
   "cell_type": "code",
   "execution_count": 77,
   "metadata": {},
   "outputs": [],
   "source": [
    "def tokenize(corpus):\n",
    "    # 텐서플로우에서 제공하는 Tokenizer 패키지를 생성\n",
    "    tokenizer = tf.keras.preprocessing.text.Tokenizer(\n",
    "        num_words=12000,  # 전체 단어의 개수 \n",
    "        filters=' ',    # 별도로 전처리 로직을 추가할 수 있습니다. 이번에는 사용하지 않겠습니다.\n",
    "        oov_token=\"<unk>\"  # out-of-vocabulary, 사전에 없었던 단어는 어떤 토큰으로 대체할지\n",
    "    )\n",
    "    tokenizer.fit_on_texts(corpus)   # 우리가 구축한 corpus로부터 Tokenizer가 사전을 자동구축하게 됩니다.\n",
    "\n",
    "    # 이후 tokenizer를 활용하여 모델에 입력할 데이터셋을 구축하게 됩니다.\n",
    "    tensor = tokenizer.texts_to_sequences(corpus)   # tokenizer는 구축한 사전으로부터 corpus를 해석해 Tensor로 변환합니다.\n",
    "\n",
    "    # 입력 데이터의 시퀀스 길이를 일정하게 맞추기 위한 padding  메소드를 제공합니다.\n",
    "    # maxlen의 디폴트값은 None입니다. 이 경우 corpus의 가장 긴 문장을 기준으로 시퀀스 길이가 맞춰집니다.\n",
    "    tensor = tf.keras.preprocessing.sequence.pad_sequences(tensor, maxlen=15, truncating='post', padding='post')  \n",
    "    print(tensor,tokenizer)\n",
    "    return tensor, tokenizer"
   ]
  },
  {
   "cell_type": "code",
   "execution_count": 78,
   "metadata": {},
   "outputs": [
    {
     "name": "stdout",
     "output_type": "stream",
     "text": [
      "[[   2   32   23 ...  720   20   20]\n",
      " [   2    5  342 ...    0    0    0]\n",
      " [   2    5   32 ...    0    0    0]\n",
      " ...\n",
      " [   2    9 1890 ...    9 1801   35]\n",
      " [   2    9  365 ...    0    0    0]\n",
      " [   2    9 1066 ...    9 2337   82]] <keras_preprocessing.text.Tokenizer object at 0x7fb163273f10>\n"
     ]
    }
   ],
   "source": [
    "tensor, tokenizer = tokenize(corpus)"
   ]
  },
  {
   "cell_type": "code",
   "execution_count": 79,
   "metadata": {},
   "outputs": [
    {
     "name": "stdout",
     "output_type": "stream",
     "text": [
      "[[  2  32  23 447 113   6 180   5 107  46   5  57 720  20  20]\n",
      " [  2   5 342  15 243  10 154   7  17   3   0   0   0   0   0]\n",
      " [  2   5  32  15 312  40  57 107   3   0   0   0   0   0   0]]\n"
     ]
    }
   ],
   "source": [
    "print(tensor[:3, :15])"
   ]
  },
  {
   "cell_type": "code",
   "execution_count": 81,
   "metadata": {},
   "outputs": [
    {
     "name": "stdout",
     "output_type": "stream",
     "text": [
      "1 : <unk>\n",
      "2 : <start>\n",
      "3 : <end>\n",
      "4 : ,\n",
      "5 : i\n",
      "6 : the\n",
      "7 : you\n",
      "8 : and\n",
      "9 : a\n",
      "10 : to\n"
     ]
    }
   ],
   "source": [
    "for idx in tokenizer.index_word:\n",
    "    print(idx, \":\", tokenizer.index_word[idx])\n",
    "\n",
    "    if idx >= 10: break"
   ]
  },
  {
   "cell_type": "code",
   "execution_count": 82,
   "metadata": {},
   "outputs": [
    {
     "name": "stdout",
     "output_type": "stream",
     "text": [
      "[  2  32  23 447 113   6 180   5 107  46   5  57 720  20]\n",
      "[ 32  23 447 113   6 180   5 107  46   5  57 720  20  20]\n"
     ]
    }
   ],
   "source": [
    "src_input = tensor[:, :-1]  # tensor에서 마지막 토큰을 잘라내서 소스 문장을 생성합니다. 마지막 토큰은 <END>가 아니라 <pad>일 가능성이 높습니다.\n",
    "tgt_input = tensor[:, 1:]    # tensor에서 <START>를 잘라내서 타겟 문장을 생성합니다.\n",
    "\n",
    "print(src_input[0])\n",
    "print(tgt_input[0])"
   ]
  },
  {
   "cell_type": "code",
   "execution_count": 83,
   "metadata": {},
   "outputs": [],
   "source": [
    "import sklearn.model_selection as sk\n",
    "enc_train, enc_val, dec_train, dec_val = sk.train_test_split(src_input,tgt_input,test_size=0.2, random_state = 42)"
   ]
  },
  {
   "cell_type": "code",
   "execution_count": 84,
   "metadata": {},
   "outputs": [
    {
     "name": "stdout",
     "output_type": "stream",
     "text": [
      "Source Train: (140788, 14)\n",
      "Target Train: (140788, 14)\n"
     ]
    }
   ],
   "source": [
    "print(\"Source Train:\", enc_train.shape)\n",
    "print(\"Target Train:\", dec_train.shape)"
   ]
  },
  {
   "cell_type": "markdown",
   "metadata": {},
   "source": [
    "## 모델 만들기\n",
    "- 모델의 Embedding Size와 Hidden Size를 조절하며 \n",
    "- 10 Epoch 안에 val_loss 값을 2.2 수준으로 줄일 수 있는 모델을 설계하세요! (Loss는 아래 제시된 Loss 함수를 그대로 사용!)\n",
    "- 그리고 멋진 모델이 생성한 가사 한 줄을 제출하시길 바랍니다!"
   ]
  },
  {
   "cell_type": "code",
   "execution_count": 86,
   "metadata": {},
   "outputs": [
    {
     "data": {
      "text/plain": [
       "<BatchDataset shapes: ((256, 14), (256, 14)), types: (tf.int32, tf.int32)>"
      ]
     },
     "execution_count": 86,
     "metadata": {},
     "output_type": "execute_result"
    }
   ],
   "source": [
    "BUFFER_SIZE = len(src_input)\n",
    "BATCH_SIZE = 256\n",
    "steps_per_epoch = len(src_input) // BATCH_SIZE\n",
    "\n",
    "VOCAB_SIZE = tokenizer.num_words + 1    # tokenizer가 구축한 단어사전 내 7000개와, 여기 포함되지 않은 0:<pad>를 포함하여 7001개\n",
    "\n",
    "dataset = tf.data.Dataset.from_tensor_slices((enc_train, dec_train)).shuffle(BUFFER_SIZE)\n",
    "dataset = dataset.batch(BATCH_SIZE, drop_remainder=True)\n",
    "dataset"
   ]
  },
  {
   "cell_type": "code",
   "execution_count": 87,
   "metadata": {},
   "outputs": [],
   "source": [
    "class TextGenerator(tf.keras.Model):\n",
    "    def __init__(self, vocab_size, embedding_size, hidden_size):\n",
    "        super(TextGenerator, self).__init__()\n",
    "        \n",
    "        self.embedding = tf.keras.layers.Embedding(vocab_size, embedding_size)\n",
    "        self.rnn_1 = tf.keras.layers.LSTM(hidden_size, return_sequences=True)\n",
    "        self.rnn_2 = tf.keras.layers.LSTM(hidden_size, return_sequences=True)\n",
    "        self.linear = tf.keras.layers.Dense(vocab_size)\n",
    "        \n",
    "    def call(self, x):\n",
    "        out = self.embedding(x)\n",
    "        out = self.rnn_1(out)\n",
    "        out = self.rnn_2(out)\n",
    "        out = self.linear(out)\n",
    "        \n",
    "        return out\n",
    "    \n",
    "embedding_size = 256\n",
    "hidden_size = 1024\n",
    "model = TextGenerator(tokenizer.num_words + 1, embedding_size , hidden_size)"
   ]
  },
  {
   "cell_type": "code",
   "execution_count": 88,
   "metadata": {},
   "outputs": [
    {
     "data": {
      "text/plain": [
       "<tf.Tensor: shape=(256, 14, 12001), dtype=float32, numpy=\n",
       "array([[[-6.9860609e-05,  2.2318140e-04, -1.8489681e-04, ...,\n",
       "         -1.1546287e-04,  1.1870121e-04, -3.3311164e-05],\n",
       "        [ 2.2490125e-04,  2.9553103e-04, -4.3457086e-04, ...,\n",
       "         -7.2490577e-05,  3.2322010e-04, -1.5864021e-04],\n",
       "        [ 3.9054060e-04,  3.0914971e-04, -3.6673504e-04, ...,\n",
       "         -2.7319239e-04,  3.9332377e-04, -1.3237158e-04],\n",
       "        ...,\n",
       "        [ 7.2450720e-04,  9.3772321e-04, -1.0935551e-03, ...,\n",
       "         -2.6842888e-04,  1.8879475e-05,  2.3285867e-04],\n",
       "        [ 6.9730944e-04,  8.4097649e-04, -1.6356441e-03, ...,\n",
       "         -1.9161675e-04,  1.8958784e-04,  1.8645922e-04],\n",
       "        [ 6.8404269e-04,  7.1035587e-04, -2.1389131e-03, ...,\n",
       "         -1.3348088e-04,  3.2640531e-04,  1.2282719e-04]],\n",
       "\n",
       "       [[-6.9860609e-05,  2.2318140e-04, -1.8489681e-04, ...,\n",
       "         -1.1546287e-04,  1.1870121e-04, -3.3311164e-05],\n",
       "        [-2.6807238e-04,  5.9231392e-05, -9.4585834e-05, ...,\n",
       "         -7.5797245e-05,  3.1411831e-04,  3.7507623e-04],\n",
       "        [-3.8237858e-04,  1.3693502e-04, -6.0830749e-05, ...,\n",
       "         -6.9776295e-05,  4.5597897e-04,  6.2011339e-04],\n",
       "        ...,\n",
       "        [-7.2214816e-04,  7.4553688e-04, -2.7208330e-04, ...,\n",
       "         -5.0439459e-04,  7.5680966e-04,  3.1210072e-04],\n",
       "        [-6.0590386e-04,  9.4641052e-04, -4.9781043e-04, ...,\n",
       "         -5.5370771e-04,  8.4431615e-04,  4.2014854e-04],\n",
       "        [-4.8064097e-04,  1.0216123e-03, -9.0863195e-04, ...,\n",
       "         -6.1108376e-04,  9.3059061e-04,  5.2354805e-04]],\n",
       "\n",
       "       [[-6.9860609e-05,  2.2318140e-04, -1.8489681e-04, ...,\n",
       "         -1.1546287e-04,  1.1870121e-04, -3.3311164e-05],\n",
       "        [-1.9116687e-04,  4.1753109e-04, -4.4538258e-04, ...,\n",
       "         -3.0960370e-04,  1.6813366e-04, -1.8280638e-04],\n",
       "        [-5.0004956e-04,  4.6906265e-04, -7.2486617e-04, ...,\n",
       "         -3.5193350e-04,  4.0704480e-04, -8.7428300e-05],\n",
       "        ...,\n",
       "        [-2.5747551e-04,  3.2310822e-04, -9.1057009e-04, ...,\n",
       "          4.9788843e-05,  1.5813954e-03,  5.9601234e-04],\n",
       "        [-2.2876081e-04,  3.6411811e-04, -1.3972661e-03, ...,\n",
       "          5.0483122e-05,  1.5265212e-03,  4.1834629e-04],\n",
       "        [-1.7510841e-04,  3.4979478e-04, -1.8981152e-03, ...,\n",
       "          4.1166779e-05,  1.4469493e-03,  2.3899315e-04]],\n",
       "\n",
       "       ...,\n",
       "\n",
       "       [[-6.9860609e-05,  2.2318140e-04, -1.8489681e-04, ...,\n",
       "         -1.1546287e-04,  1.1870121e-04, -3.3311164e-05],\n",
       "        [-4.1437527e-04,  4.1931891e-04, -4.0145312e-04, ...,\n",
       "         -2.4773722e-04,  5.0619891e-04, -2.3988991e-04],\n",
       "        [-7.4122864e-04,  5.2685209e-04, -5.5324950e-04, ...,\n",
       "         -2.9434118e-04,  6.1984232e-04, -4.1773103e-04],\n",
       "        ...,\n",
       "        [-1.8214253e-03,  9.8921207e-04, -1.4159123e-04, ...,\n",
       "          2.7560329e-05,  1.6902741e-03, -1.1106849e-03],\n",
       "        [-1.8777795e-03,  8.6500176e-04, -1.5131260e-04, ...,\n",
       "          9.4113617e-05,  1.7944627e-03, -9.2857255e-04],\n",
       "        [-1.7397021e-03,  1.0276975e-03,  2.7180280e-05, ...,\n",
       "          1.9983016e-04,  1.8442759e-03, -8.3070272e-04]],\n",
       "\n",
       "       [[-6.9860609e-05,  2.2318140e-04, -1.8489681e-04, ...,\n",
       "         -1.1546287e-04,  1.1870121e-04, -3.3311164e-05],\n",
       "        [-1.1221998e-04,  2.5235646e-04, -5.6986761e-04, ...,\n",
       "         -7.4453616e-05,  2.8122630e-04,  8.6242544e-05],\n",
       "        [-1.4688540e-04,  1.7533643e-04, -6.4767478e-04, ...,\n",
       "          2.7438151e-04,  9.0712879e-04, -5.4288292e-05],\n",
       "        ...,\n",
       "        [-4.1026465e-04,  1.2782296e-03, -1.1675050e-03, ...,\n",
       "          4.6641708e-04,  1.8867870e-03,  2.4935332e-04],\n",
       "        [-3.8277521e-04,  1.2526424e-03, -1.6008918e-03, ...,\n",
       "          3.7211136e-04,  1.8270308e-03,  1.4356771e-04],\n",
       "        [-3.2491938e-04,  1.1618566e-03, -2.0322101e-03, ...,\n",
       "          2.8594933e-04,  1.7659098e-03,  3.7990478e-05]],\n",
       "\n",
       "       [[-6.9860609e-05,  2.2318140e-04, -1.8489681e-04, ...,\n",
       "         -1.1546287e-04,  1.1870121e-04, -3.3311164e-05],\n",
       "        [-1.2731021e-04,  2.8164481e-04, -3.7176727e-04, ...,\n",
       "         -1.3088128e-04,  2.0507934e-05, -1.0007564e-04],\n",
       "        [-2.1702328e-04,  2.8643588e-04, -7.3777727e-04, ...,\n",
       "          1.3581310e-04, -2.0839754e-05,  1.9448329e-04],\n",
       "        ...,\n",
       "        [-5.1104394e-04,  9.7273797e-04, -1.1865976e-03, ...,\n",
       "          9.4400290e-05,  8.9162885e-04,  9.6617296e-04],\n",
       "        [-4.1025417e-04,  8.7232160e-04, -1.6714837e-03, ...,\n",
       "          1.7465969e-05,  1.0545067e-03,  8.2709524e-04],\n",
       "        [-2.9603418e-04,  7.3823286e-04, -2.1344672e-03, ...,\n",
       "         -5.2246178e-05,  1.1585146e-03,  6.8112265e-04]]], dtype=float32)>"
      ]
     },
     "execution_count": 88,
     "metadata": {},
     "output_type": "execute_result"
    }
   ],
   "source": [
    "for src_sample, tgt_sample in dataset.take(1): break\n",
    "model(src_sample)"
   ]
  },
  {
   "cell_type": "code",
   "execution_count": 89,
   "metadata": {},
   "outputs": [
    {
     "name": "stdout",
     "output_type": "stream",
     "text": [
      "Model: \"text_generator\"\n",
      "_________________________________________________________________\n",
      "Layer (type)                 Output Shape              Param #   \n",
      "=================================================================\n",
      "embedding (Embedding)        multiple                  3072256   \n",
      "_________________________________________________________________\n",
      "lstm (LSTM)                  multiple                  5246976   \n",
      "_________________________________________________________________\n",
      "lstm_1 (LSTM)                multiple                  8392704   \n",
      "_________________________________________________________________\n",
      "dense (Dense)                multiple                  12301025  \n",
      "=================================================================\n",
      "Total params: 29,012,961\n",
      "Trainable params: 29,012,961\n",
      "Non-trainable params: 0\n",
      "_________________________________________________________________\n"
     ]
    }
   ],
   "source": [
    "model.summary()"
   ]
  },
  {
   "cell_type": "code",
   "execution_count": 97,
   "metadata": {},
   "outputs": [
    {
     "name": "stdout",
     "output_type": "stream",
     "text": [
      "Epoch 1/20\n",
      "549/549 [==============================] - 78s 142ms/step - loss: 2.9315 - val_loss: 2.9550\n",
      "Epoch 2/20\n",
      "549/549 [==============================] - 78s 141ms/step - loss: 2.7356 - val_loss: 2.8652\n",
      "Epoch 3/20\n",
      "549/549 [==============================] - 77s 141ms/step - loss: 2.5746 - val_loss: 2.7982\n",
      "Epoch 4/20\n",
      "549/549 [==============================] - 78s 141ms/step - loss: 2.4362 - val_loss: 2.7515\n",
      "Epoch 5/20\n",
      "549/549 [==============================] - 77s 141ms/step - loss: 2.3145 - val_loss: 2.7123\n",
      "Epoch 6/20\n",
      "549/549 [==============================] - 77s 141ms/step - loss: 2.2058 - val_loss: 2.6866\n",
      "Epoch 7/20\n",
      "549/549 [==============================] - 77s 141ms/step - loss: 2.1063 - val_loss: 2.6667\n",
      "Epoch 8/20\n",
      "549/549 [==============================] - 76s 138ms/step - loss: 2.0142 - val_loss: 2.6496\n",
      "Epoch 9/20\n",
      "549/549 [==============================] - 77s 140ms/step - loss: 1.9283 - val_loss: 2.6406\n",
      "Epoch 10/20\n",
      "549/549 [==============================] - 78s 141ms/step - loss: 1.8471 - val_loss: 2.6304\n",
      "Epoch 11/20\n",
      "549/549 [==============================] - 77s 141ms/step - loss: 1.7712 - val_loss: 2.6229\n",
      "Epoch 12/20\n",
      "549/549 [==============================] - 78s 142ms/step - loss: 1.6986 - val_loss: 2.6195\n",
      "Epoch 13/20\n",
      "549/549 [==============================] - 81s 147ms/step - loss: 1.6303 - val_loss: 2.6191\n",
      "Epoch 14/20\n",
      "549/549 [==============================] - 78s 141ms/step - loss: 1.5659 - val_loss: 2.6203\n",
      "Epoch 15/20\n",
      "549/549 [==============================] - 78s 141ms/step - loss: 1.5055 - val_loss: 2.6272\n",
      "Epoch 16/20\n",
      "549/549 [==============================] - 78s 141ms/step - loss: 1.4488 - val_loss: 2.6379\n",
      "Epoch 17/20\n",
      "549/549 [==============================] - 78s 141ms/step - loss: 1.3957 - val_loss: 2.6425\n",
      "Epoch 18/20\n",
      "549/549 [==============================] - 77s 140ms/step - loss: 1.3466 - val_loss: 2.6541\n",
      "Epoch 19/20\n",
      "549/549 [==============================] - 78s 143ms/step - loss: 1.3008 - val_loss: 2.6691\n",
      "Epoch 20/20\n",
      "549/549 [==============================] - 78s 141ms/step - loss: 1.2586 - val_loss: 2.6826\n"
     ]
    }
   ],
   "source": [
    "optimizer = tf.keras.optimizers.Adam()\n",
    "loss = tf.keras.losses.SparseCategoricalCrossentropy(\n",
    "    from_logits=True,\n",
    "    reduction='none'\n",
    ")\n",
    "\n",
    "model.compile(loss=loss, optimizer=optimizer)\n",
    "history = model.fit(dataset, epochs=20, validation_data=(enc_val, dec_val))"
   ]
  },
  {
   "cell_type": "code",
   "execution_count": 91,
   "metadata": {},
   "outputs": [],
   "source": [
    "def generate_text(model, tokenizer, init_sentence=\"<start>\", max_len=20):\n",
    "    # 테스트를 위해서 입력받은 init_sentence도 일단 텐서로 변환합니다.\n",
    "    test_input = tokenizer.texts_to_sequences([init_sentence])\n",
    "    test_tensor = tf.convert_to_tensor(test_input, dtype=tf.int64)\n",
    "    end_token = tokenizer.word_index[\"<end>\"]\n",
    "\n",
    "    # 텍스트를 실제로 생성할때는 루프를 돌면서 단어 하나씩 생성해야 합니다. \n",
    "    while True:\n",
    "        predict = model(test_tensor)  # 입력받은 문장의 텐서를 입력합니다. \n",
    "        predict_word = tf.argmax(tf.nn.softmax(predict, axis=-1), axis=-1)[:, -1]   # 우리 모델이 예측한 마지막 단어가 바로 새롭게 생성한 단어가 됩니다. \n",
    "\n",
    "        # 우리 모델이 새롭게 예측한 단어를 입력 문장의 뒤에 붙여 줍니다. \n",
    "        test_tensor = tf.concat([test_tensor, \n",
    "                                                                 tf.expand_dims(predict_word, axis=0)], axis=-1)\n",
    "\n",
    "        # 우리 모델이 <END>를 예측했거나, max_len에 도달하지 않았다면  while 루프를 또 돌면서 다음 단어를 예측해야 합니다.\n",
    "        if predict_word.numpy()[0] == end_token: break\n",
    "        if test_tensor.shape[1] >= max_len: break\n",
    "\n",
    "    generated = \"\"\n",
    "    # 생성된 tensor 안에 있는 word index를 tokenizer.index_word 사전을 통해 실제 단어로 하나씩 변환합니다. \n",
    "    for word_index in test_tensor[0].numpy():\n",
    "        generated += tokenizer.index_word[word_index] + \" \"\n",
    "\n",
    "    return generated   # 이것이 최종적으로 모델이 생성한 자연어 문장입니다."
   ]
  },
  {
   "cell_type": "code",
   "execution_count": 100,
   "metadata": {},
   "outputs": [
    {
     "data": {
      "text/plain": [
       "'<start> i love you , i m not gonna crack <end> '"
      ]
     },
     "execution_count": 100,
     "metadata": {},
     "output_type": "execute_result"
    }
   ],
   "source": [
    "generate_text(model, tokenizer, init_sentence=\"<start> i love\", max_len=20)"
   ]
  }
 ],
 "metadata": {
  "kernelspec": {
   "display_name": "Python 3",
   "language": "python",
   "name": "python3"
  },
  "language_info": {
   "codemirror_mode": {
    "name": "ipython",
    "version": 3
   },
   "file_extension": ".py",
   "mimetype": "text/x-python",
   "name": "python",
   "nbconvert_exporter": "python",
   "pygments_lexer": "ipython3",
   "version": "3.7.7"
  }
 },
 "nbformat": 4,
 "nbformat_minor": 4
}
